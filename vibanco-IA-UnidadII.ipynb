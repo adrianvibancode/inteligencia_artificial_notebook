{
 "cells": [
  {
   "cell_type": "markdown",
   "metadata": {},
   "source": [
    "Unidad 2\n",
    "===\n",
    "\n",
    "* *Adrian Vibanco Rosales* | Última modificación: Mayo 22, 2021."
   ]
  },
  {
   "cell_type": "markdown",
   "metadata": {},
   "source": [
    "## Arboles de decision"
   ]
  },
  {
   "cell_type": "code",
   "execution_count": 2,
   "metadata": {},
   "outputs": [],
   "source": [
    "import random, math, numpy as np"
   ]
  },
  {
   "cell_type": "markdown",
   "metadata": {},
   "source": [
    "|id|Pelicula favorita|Hora adecuada|Asientos disponibles|Tengo dinero|respuesta|\n",
    "|:-:|:-:|:-:|:-:|:-:|:-:|\n",
    "|0|muchas |tarde|muchos | nada| NO|\n",
    "|1|muchas |medio dia|ninguno | mucho|SI|\n",
    "|2|pocas |medio dia|ninguno | nada|NO|\n",
    "|3|pocas |noche|pocos | mucho|SI|\n",
    "|4|ninguna |tarde |pocos| poco |NO|\n",
    "|5|algunas|medio dia |muchos |algo|SI|\n",
    "|6 |ninguna |noche |muchos |nada|NO|\n",
    "|7 |ninguna| medio dia |muchos|nada|NO|\n",
    "|8 |algunas | tarde |pocos| mucho| SI|\n",
    "|9 |ninguna|mañana |pocos | poco |NO|"
   ]
  },
  {
   "cell_type": "code",
   "execution_count": 3,
   "metadata": {},
   "outputs": [],
   "source": [
    "matriz = [[],[]]\n",
    "respuesta = []\n",
    "var1=[]\n",
    "var2=[]\n",
    "var3=[]\n",
    "var4=[]\n",
    "\n",
    "respuestaSi =0\n",
    "respuestaNo = 0\n",
    "entropia=0\n",
    "casostotales=10\n",
    "\n",
    "pelicula_favorita_pocas_SI =0\n",
    "pelicula_favorita_pocas_NO =0\n",
    "pelicula_favorita_ninguna_SI =0\n",
    "pelicula_favorita_ninguna_NO =0\n",
    "pelicula_favorita_algunas_SI =0\n",
    "pelicula_favorita_algunas_NO =0\n",
    "pelicula_favorita_muchas_SI =0\n",
    "pelicula_favorita_muchas_NO =0\n",
    "\n",
    "\n",
    "pelicula_favorita =[\"ninguna\", \"pocas\", \"algunas\", \"muchas\"]\n",
    "hora_adecuada =[\"mañana\", \"mediDia\", \"tarde\", \"noche\"]\n",
    "asientos_disponibles =[\"ninguno\", \"pocos\", \"algunos\", \"muchos\"]\n",
    "tengo_dinero =[\"nada\", \"poco\", \"algo\", \"mucho\"]\n"
   ]
  },
  {
   "cell_type": "code",
   "execution_count": 4,
   "metadata": {},
   "outputs": [],
   "source": [
    "for i in range(casostotales): #columnas\n",
    "    numero_rand = np.random.randint(0, 4);\n",
    "    var1.append(pelicula_favorita[numero_rand])\n",
    "for i in range(casostotales): #columnas\n",
    "    numero_rand = np.random.randint(0, 4);\n",
    "    var2.append(hora_adecuada[numero_rand])\n",
    "for i in range(casostotales):  # columnas\n",
    "    numero_rand = np.random.randint(0, 4);\n",
    "    var3.append(asientos_disponibles[numero_rand])\n",
    "for i in range(casostotales): #columnas\n",
    "    numero_rand = np.random.randint(0, 4);\n",
    "    var4.append(tengo_dinero[numero_rand])\n",
    "\n",
    "for i in range(casostotales):\n",
    "    for j in range(1):\n",
    "        if var1[i] == \"ninguna\" or var4[i]==\"nada\" or var3[i]==\"ninguna\":\n",
    "            respuesta.append(\"NO\")\n",
    "            respuestaNo = respuestaNo+1\n",
    "        else:\n",
    "            respuesta.append(\"SI\")\n",
    "            respuestaSi = respuestaSi+1\n",
    "            "
   ]
  },
  {
   "cell_type": "markdown",
   "metadata": {},
   "source": [
    "#### GANANCIA DEL ARBOL"
   ]
  },
  {
   "cell_type": "markdown",
   "metadata": {},
   "source": []
  },
  {
   "cell_type": "code",
   "execution_count": 5,
   "metadata": {},
   "outputs": [
    {
     "data": {
      "text/plain": [
       "0.08659188145522112"
      ]
     },
     "execution_count": 5,
     "metadata": {},
     "output_type": "execute_result"
    }
   ],
   "source": [
    "entropia=respuestaSi/casostotales*math.log2(respuestaSi/casostotales)-respuestaNo/casostotales*math.log2(respuestaNo/casostotales)\n",
    "entropia\n"
   ]
  },
  {
   "cell_type": "code",
   "execution_count": 6,
   "metadata": {},
   "outputs": [
    {
     "data": {
      "text/plain": [
       "6"
      ]
     },
     "execution_count": 6,
     "metadata": {},
     "output_type": "execute_result"
    }
   ],
   "source": [
    "respuestaSi"
   ]
  },
  {
   "cell_type": "code",
   "execution_count": 7,
   "metadata": {
    "scrolled": true
   },
   "outputs": [
    {
     "data": {
      "text/plain": [
       "4"
      ]
     },
     "execution_count": 7,
     "metadata": {},
     "output_type": "execute_result"
    }
   ],
   "source": [
    "respuestaNo"
   ]
  },
  {
   "cell_type": "markdown",
   "metadata": {},
   "source": [
    "#### TABLA DE VARIABLES"
   ]
  },
  {
   "cell_type": "code",
   "execution_count": 17,
   "metadata": {},
   "outputs": [
    {
     "name": "stdout",
     "output_type": "stream",
     "text": [
      "0 6\n",
      "0 6\n",
      "0 6\n",
      "0 6\n",
      "0 6\n",
      "0 7\n",
      "0 7\n",
      "0 7\n",
      "0 7\n",
      "0 8\n"
     ]
    }
   ],
   "source": [
    "\n",
    "pf_ninguna =0\n",
    "pf_pocas = 0\n",
    "pf_algunas = 0\n",
    "pf_muchas = 0\n",
    "\n",
    "for i in range(casostotales):\n",
    "    \n",
    "    # NINGUNA\n",
    "    if (var1[i] == \"ninguna\") and (respuesta[i] == \"SI\"):\n",
    "        pelicula_favorita_ninguna_SI = pelicula_favorita_ninguna_SI + 1\n",
    "    elif var1[i] == \"ninguna\" and respuesta[i] == \"NO\":\n",
    "        pelicula_favorita_ninguna_NO = pelicula_favorita_ninguna_NO + 1\n",
    "    if pelicula_favorita_ninguna_SI or pelicula_favorita_ninguna_NO == 0:\n",
    "        pf_ninguna = 0\n",
    "    else:\n",
    "        try:\n",
    "            pf_ninguna = pelicula_favorita_ninguna_SI / casostotales * math.log2(pelicula_favorita_ninguna_SI / casostotales) - pelicula_favorita_ninguna_NO / casostotales * math.log2(pelicula_favorita_ninguna_NO / casostotales)\n",
    "        except:\n",
    "            print(str(pelicula_favorita_ninguna_SI),str(pelicula_favorita_ninguna_NO))\n",
    "            \n",
    "            \n",
    "    #POCAS\n",
    "    if var1[i] == \"pocas\" and respuesta[i]==\"SI\":\n",
    "        pelicula_favorita_pocas_SI = pelicula_favorita_pocas_SI +1\n",
    "    elif var1[i] == \"pocas\" and respuesta[i] == \"NO\":\n",
    "        pelicula_favorita_pocas_NO = pelicula_favorita_pocas_NO + 1\n",
    "        \n",
    "    if pelicula_favorita_pocas_SI or pelicula_favorita_pocas_NO == 0:\n",
    "        pf_pocas = 0\n",
    "    elif pelicula_favorita_pocas_SI or pelicula_favorita_pocas_NO != 0:\n",
    "        pelicula_favorita_ninguna_SI = pelicula_favorita_ninguna_SI + 1\n",
    "        pf_pocas = pelicula_favorita_pocas_SI / casostotales * math.log2(pelicula_favorita_pocas_SI / casostotales) - pelicula_favorita_pocas_NO / casostotales * math.log2(pelicula_favorita_pocas_NO/ casostotales)\n",
    "\n",
    "        \n",
    "        \n",
    "    #ALGUNAS\n",
    "    if var1[i] == \"algunas\" and respuesta[i] == \"SI\":\n",
    "        pelicula_favorita_algunas_SI = pelicula_favorita_algunas_SI + 1\n",
    "    elif var1[i] == \"algunas\" and respuesta[i] == \"NO\":\n",
    "        pelicula_favorita_algunas_NO = pelicula_favorita_algunas_NO + 1\n",
    "    if pelicula_favorita_algunas_SI or pelicula_favorita_algunas_NO == 0:\n",
    "        pf_algunas = 0\n",
    "    else:\n",
    "        pelicula_favorita_ninguna_SI = pelicula_favorita_ninguna_SI + 1\n",
    "        pf_algunas = pelicula_favorita_algunas_SI / casostotales * math.log2(pelicula_favorita_algunas_SI / casostotales) - pelicula_favorita_algunas_NO / casostotales * math.log2(pelicula_favorita_algunas_NO / casostotales)\n",
    "\n",
    "    #MUCHAS\n",
    "    if var1[i] == \"muchas\" and respuesta[i] == \"SI\":\n",
    "        pelicula_favorita_muchas_SI = pelicula_favorita_muchas_SI + 1\n",
    "    elif var1[i] == \"muchas\" and respuesta[i] == \"NO\":\n",
    "        pelicula_favorita_muchas_NO = pelicula_favorita_muchas_NO + 1\n",
    "    if pelicula_favorita_muchas_SI or pelicula_favorita_muchas_NO == 0:\n",
    "        pf_muchas = 0\n",
    "    else:\n",
    "        pelicula_favorita_ninguna_SI = pelicula_favorita_ninguna_SI + 1\n",
    "        pf_muchas = pelicula_favorita_muchas_SI / casostotales * math.log2(pelicula_favorita_muchas_SI / casostotales) - pelicula_favorita_muchas_NO / casostotales * math.log2(pelicula_favorita_muchas_NO / casostotales)\n",
    "\n"
   ]
  },
  {
   "cell_type": "markdown",
   "metadata": {},
   "source": [
    "|Pelicula favorita|Ninguna si|Ninguna no|Total|Peso|\n",
    "|:-:|:-:|:-:|:-:|:-:|\n",
    "|ninguna|1|3|4|0|\n",
    "|pocas|8|2|10|0|\n",
    "|algunas|5|0|5|0|\n",
    "|muchas|8|0|8|0|"
   ]
  },
  {
   "cell_type": "code",
   "execution_count": 1,
   "metadata": {},
   "outputs": [
    {
     "ename": "NameError",
     "evalue": "name 'casostotales' is not defined",
     "output_type": "error",
     "traceback": [
      "\u001b[1;31m---------------------------------------------------------------------------\u001b[0m",
      "\u001b[1;31mNameError\u001b[0m                                 Traceback (most recent call last)",
      "\u001b[1;32m<ipython-input-1-9da188a4233d>\u001b[0m in \u001b[0;36m<module>\u001b[1;34m\u001b[0m\n\u001b[1;32m----> 1\u001b[1;33m \u001b[1;32mfor\u001b[0m \u001b[0mi\u001b[0m \u001b[1;32min\u001b[0m \u001b[0mrange\u001b[0m\u001b[1;33m(\u001b[0m\u001b[0mcasostotales\u001b[0m\u001b[1;33m)\u001b[0m\u001b[1;33m:\u001b[0m\u001b[1;33m\u001b[0m\u001b[1;33m\u001b[0m\u001b[0m\n\u001b[0m\u001b[0;32m      2\u001b[0m         \u001b[1;31m# mañana\u001b[0m\u001b[1;33m\u001b[0m\u001b[1;33m\u001b[0m\u001b[1;33m\u001b[0m\u001b[0m\n\u001b[0;32m      3\u001b[0m         \u001b[1;32mif\u001b[0m \u001b[0mvar2\u001b[0m\u001b[1;33m[\u001b[0m\u001b[0mi\u001b[0m\u001b[1;33m]\u001b[0m \u001b[1;33m==\u001b[0m \u001b[1;34m\"mañana\"\u001b[0m \u001b[1;32mand\u001b[0m \u001b[0mrespuesta\u001b[0m\u001b[1;33m[\u001b[0m\u001b[0mi\u001b[0m\u001b[1;33m]\u001b[0m \u001b[1;33m==\u001b[0m \u001b[1;34m\"SI\"\u001b[0m\u001b[1;33m:\u001b[0m\u001b[1;33m\u001b[0m\u001b[1;33m\u001b[0m\u001b[0m\n\u001b[0;32m      4\u001b[0m             \u001b[0mhora_adecuada_mañana_SI\u001b[0m \u001b[1;33m=\u001b[0m \u001b[0mhora_adecuada_mañana_SI\u001b[0m \u001b[1;33m+\u001b[0m \u001b[1;36m1\u001b[0m\u001b[1;33m\u001b[0m\u001b[1;33m\u001b[0m\u001b[0m\n\u001b[0;32m      5\u001b[0m         \u001b[1;32mif\u001b[0m \u001b[0mvar2\u001b[0m\u001b[1;33m[\u001b[0m\u001b[0mi\u001b[0m\u001b[1;33m]\u001b[0m \u001b[1;33m==\u001b[0m \u001b[1;34m\"mañana\"\u001b[0m \u001b[1;32mand\u001b[0m \u001b[0mrespuesta\u001b[0m\u001b[1;33m[\u001b[0m\u001b[0mi\u001b[0m\u001b[1;33m]\u001b[0m \u001b[1;33m==\u001b[0m \u001b[1;34m\"NO\"\u001b[0m\u001b[1;33m:\u001b[0m\u001b[1;33m\u001b[0m\u001b[1;33m\u001b[0m\u001b[0m\n",
      "\u001b[1;31mNameError\u001b[0m: name 'casostotales' is not defined"
     ]
    }
   ],
   "source": [
    "hora_adecuada_mañana_SI =0\n",
    "hora_adecuada_mañana_NO =0\n",
    "hora_adecuada_mediDia_SI =0\n",
    "hora_adecuada_mediDia_NO =0\n",
    "hora_adecuada_tarde_SI =0\n",
    "hora_adecuada_tarde_NO =0\n",
    "hora_adecuada_noche_SI =0\n",
    "hora_adecuada_noche_NO =0\n",
    "\n",
    "ha_mañana = 0\n",
    "ha_mediodia = 0\n",
    "ha_tarde = 0\n",
    "ha_noche = 0\n",
    "\n",
    "\n",
    "for i in range(casostotales):\n",
    "    \n",
    "    try:\n",
    "        # mañana\n",
    "        if var2[i] == \"mañana\" and respuesta[i] == \"SI\":\n",
    "            hora_adecuada_mañana_SI = hora_adecuada_mañana_SI + 1\n",
    "        if var2[i] == \"mañana\" and respuesta[i] == \"NO\":\n",
    "            hora_adecuada_mañana_NO = hora_adecuada_mañana_NO + 1\n",
    "        if hora_adecuada_mañana_SI or hora_adecuada_mañana_NO == 0:\n",
    "            ha_mañana = 0\n",
    "        else:\n",
    "            ha_mañana = hora_adecuada_mañana_SI / casostotales * math.log2(hora_adecuada_mañana_SI / casostotales) - hora_adecuada_mañana_NO / casostotales * math.log2(hora_adecuada_mañana_NO/ casostotales)\n",
    "\n",
    "        #mediodia\n",
    "        if var2[i] == \"mediDia\" and respuesta[i]==\"SI\":\n",
    "            hora_adecuada_mediDia_SI = hora_adecuada_mediDia_SI +1\n",
    "        if var2[i] == \"mediDia\" and respuesta[i] == \"NO\":\n",
    "            hora_adecuada_mediDia_NO = hora_adecuada_mediDia_NO + 1\n",
    "        if hora_adecuada_mediDia_SI or hora_adecuada_mediDia_NO == 0:\n",
    "            ha_mediodia= 0\n",
    "        else:\n",
    "            ha_mediodia = hora_adecuada_mediDia_SI / casostotales * math.log2(hora_adecuada_mediDia_SI / casostotales) - hora_adecuada_mediDia_NO / casostotales * math.log2(hora_adecuada_mediDia_NO / casostotales)\n",
    "\n",
    "        #tarde\n",
    "        if var2[i] == \"tarde\" and respuesta[i] == \"SI\":\n",
    "            hora_adecuada_tarde_SI = hora_adecuada_tarde_SI + 1\n",
    "        if var2[i] == \"tarde\" and respuesta[i] == \"NO\":\n",
    "            hora_adecuada_tarde_NO = hora_adecuada_tarde_NO + 1\n",
    "        if hora_adecuada_tarde_SI or hora_adecuada_tarde_NO == 0:\n",
    "            ha_tarde = 0\n",
    "        else:\n",
    "            ha_tarde = hora_adecuada_tarde_SI / casostotales * math.log2(hora_adecuada_tarde_SI / casostotales) - hora_adecuada_tarde_NO / casostotales * math.log2(hora_adecuada_tarde_NO / casostotales)\n",
    "\n",
    "        #noche\n",
    "        if var2[i] == \"noche\" and respuesta[i] == \"SI\":\n",
    "            hora_adecuada_noche_SI = hora_adecuada_noche_SI + 1\n",
    "        if var2[i] == \"noche\" and respuesta[i] == \"NO\":\n",
    "            hora_adecuada_noche_NO = hora_adecuada_noche_NO + 1\n",
    "        if hora_adecuada_noche_SI or hora_adecuada_noche_NO == 0:\n",
    "            ha_noche = 0\n",
    "        else:\n",
    "             ha_noche = hora_adecuada_noche_SI/ casostotales * math.log2(hora_adecuada_noche_SI / casostotales) - hora_adecuada_noche_NO / casostotales * math.log2(hora_adecuada_noche_NO /casostotales)\n",
    "except\n",
    "                \n",
    "print(hora_adecuada[0], \"     \", hora_adecuada_mañana_SI,\"    \", hora_adecuada_mañana_NO,\"      \", hora_adecuada_mañana_SI+hora_adecuada_mañana_NO, \"      \", ha_mañana )\n",
    "print(hora_adecuada[1], \"    \", hora_adecuada_mediDia_SI,\"    \", hora_adecuada_mediDia_NO,\"      \", hora_adecuada_mediDia_SI+hora_adecuada_mediDia_NO, \"      \", ha_mediodia )\n",
    "print(hora_adecuada[2], \"    \", hora_adecuada_tarde_SI,\"      \", hora_adecuada_tarde_NO,\"       \", hora_adecuada_tarde_SI+hora_adecuada_tarde_NO, \"      \", ha_tarde )\n",
    "print(hora_adecuada[3], \"    \", hora_adecuada_noche_SI,\"      \", hora_adecuada_noche_NO,\"       \", hora_adecuada_noche_SI+hora_adecuada_noche_NO, \"       \", ha_noche )\n",
    "\n",
    "\n",
    "asientos_disponibles_ninguno_SI = 0\n",
    "asientos_disponibles_ninguno_NO = 0\n",
    "asientos_disponibles_pocos_SI = 0\n",
    "asientos_disponibles_pocos_NO = 0\n",
    "asientos_disponibles_algunas_SI = 0\n",
    "asientos_disponibles_algunas_NO = 0\n",
    "asientos_disponibles_muchas_SI = 0\n",
    "asientos_disponibles_muchas_NO = 0\n",
    "ad_ninguno=0\n",
    "ad_pocos=0\n",
    "ad_algunos=0\n",
    "ad_muchos=0\n",
    "\n",
    "\n",
    "\n"
   ]
  },
  {
   "cell_type": "code",
   "execution_count": 2,
   "metadata": {},
   "outputs": [
    {
     "ename": "NameError",
     "evalue": "name 'casostotales' is not defined",
     "output_type": "error",
     "traceback": [
      "\u001b[1;31m---------------------------------------------------------------------------\u001b[0m",
      "\u001b[1;31mNameError\u001b[0m                                 Traceback (most recent call last)",
      "\u001b[1;32m<ipython-input-2-931dd50342a9>\u001b[0m in \u001b[0;36m<module>\u001b[1;34m\u001b[0m\n\u001b[1;32m----> 1\u001b[1;33m \u001b[1;32mfor\u001b[0m \u001b[0mi\u001b[0m \u001b[1;32min\u001b[0m \u001b[0mrange\u001b[0m\u001b[1;33m(\u001b[0m\u001b[0mcasostotales\u001b[0m\u001b[1;33m)\u001b[0m\u001b[1;33m:\u001b[0m\u001b[1;33m\u001b[0m\u001b[1;33m\u001b[0m\u001b[0m\n\u001b[0m\u001b[0;32m      2\u001b[0m         \u001b[1;31m# NINGUNA\u001b[0m\u001b[1;33m\u001b[0m\u001b[1;33m\u001b[0m\u001b[1;33m\u001b[0m\u001b[0m\n\u001b[0;32m      3\u001b[0m         \u001b[1;32mif\u001b[0m \u001b[0mvar3\u001b[0m\u001b[1;33m[\u001b[0m\u001b[0mi\u001b[0m\u001b[1;33m]\u001b[0m \u001b[1;33m==\u001b[0m \u001b[1;34m\"ninguno\"\u001b[0m \u001b[1;32mand\u001b[0m \u001b[0mrespuesta\u001b[0m\u001b[1;33m[\u001b[0m\u001b[0mi\u001b[0m\u001b[1;33m]\u001b[0m \u001b[1;33m==\u001b[0m \u001b[1;34m\"SI\"\u001b[0m\u001b[1;33m:\u001b[0m\u001b[1;33m\u001b[0m\u001b[1;33m\u001b[0m\u001b[0m\n\u001b[0;32m      4\u001b[0m             \u001b[0masientos_disponibles_ninguno_SI\u001b[0m \u001b[1;33m=\u001b[0m \u001b[0masientos_disponibles_ninguno_SI\u001b[0m \u001b[1;33m+\u001b[0m \u001b[1;36m1\u001b[0m\u001b[1;33m\u001b[0m\u001b[1;33m\u001b[0m\u001b[0m\n\u001b[0;32m      5\u001b[0m         \u001b[1;32mif\u001b[0m \u001b[0mvar3\u001b[0m\u001b[1;33m[\u001b[0m\u001b[0mi\u001b[0m\u001b[1;33m]\u001b[0m \u001b[1;33m==\u001b[0m \u001b[1;34m\"ninguno\"\u001b[0m \u001b[1;32mand\u001b[0m \u001b[0mrespuesta\u001b[0m\u001b[1;33m[\u001b[0m\u001b[0mi\u001b[0m\u001b[1;33m]\u001b[0m \u001b[1;33m==\u001b[0m \u001b[1;34m\"NO\"\u001b[0m\u001b[1;33m:\u001b[0m\u001b[1;33m\u001b[0m\u001b[1;33m\u001b[0m\u001b[0m\n",
      "\u001b[1;31mNameError\u001b[0m: name 'casostotales' is not defined"
     ]
    }
   ],
   "source": [
    "\n",
    "for i in range(casostotales):\n",
    "        # NINGUNA\n",
    "        if var3[i] == \"ninguno\" and respuesta[i] == \"SI\":\n",
    "            asientos_disponibles_ninguno_SI = asientos_disponibles_ninguno_SI + 1\n",
    "        if var3[i] == \"ninguno\" and respuesta[i] == \"NO\":\n",
    "            asientos_disponibles_ninguno_NO = asientos_disponibles_ninguno_NO + 1\n",
    "        if hora_adecuada_noche_SI or hora_adecuada_noche_NO == 0:\n",
    "            ad_ninguno = 0\n",
    "        else:\n",
    "             ad_ninguno = asientos_disponibles_ninguno_SI/ casostotales * math.log2(\n",
    "                 asientos_disponibles_ninguno_SI/ casostotales) -  asientos_disponibles_ninguno_NO / casostotales * math.log2(\n",
    "                 asientos_disponibles_ninguno_NO /casostotales)\n",
    "        #POCAS\n",
    "        if var3[i] == \"pocos\" and respuesta[i]==\"SI\":\n",
    "            asientos_disponibles_pocos_SI = asientos_disponibles_pocos_SI  +1\n",
    "        if var3[i] == \"pocos\" and respuesta[i] == \"NO\":\n",
    "            asientos_disponibles_pocos_NO = asientos_disponibles_pocos_NO + 1\n",
    "        if hora_adecuada_noche_SI or hora_adecuada_noche_NO == 0:\n",
    "            ad_pocos = 0\n",
    "        else:\n",
    "             ad_pocos = asientos_disponibles_pocos_SI/ casostotales * math.log2(\n",
    "                 asientos_disponibles_pocos_SI / casostotales) - asientos_disponibles_pocos_NO / casostotales * math.log2(\n",
    "                asientos_disponibles_pocos_NO /casostotales)\n",
    "        #ALGUNAS\n",
    "        if var3[i] == \"algunos\" and respuesta[i] == \"SI\":\n",
    "            asientos_disponibles_algunas_SI = asientos_disponibles_algunas_SI + 1\n",
    "        if var3[i] == \"algunos\" and respuesta[i] == \"NO\":\n",
    "            asientos_disponibles_algunas_NO = asientos_disponibles_algunas_NO + 1\n",
    "        if asientos_disponibles_algunas_SI or asientos_disponibles_algunas_NO == 0:\n",
    "            ad_algunos = 0\n",
    "        else:\n",
    "             ad_algunos = asientos_disponibles_algunas_SI/ casostotales * math.log2(\n",
    "                 asientos_disponibles_algunas_SI / casostotales) - asientos_disponibles_algunas_NO / casostotales * math.log2(\n",
    "                 asientos_disponibles_algunas_NO /casostotales)\n",
    "        #MUCHAS\n",
    "        if var3[i] == \"muchos\" and respuesta[i] == \"SI\":\n",
    "            asientos_disponibles_muchas_SI = asientos_disponibles_muchas_SI + 1\n",
    "        if var3[i] == \"muchos\" and respuesta[i] == \"NO\":\n",
    "            asientos_disponibles_muchas_NO = asientos_disponibles_muchas_NO + 1\n",
    "        if asientos_disponibles_muchas_SI or asientos_disponibles_muchas_NO == 0:\n",
    "            ad_muchos = 0\n",
    "        else:\n",
    "             ad_muchos = asientos_disponibles_muchas_SI/ casostotales * math.log2(\n",
    "                 asientos_disponibles_muchas_SI / casostotales) - asientos_disponibles_muchas_NO / casostotales * math.log2(\n",
    "                 asientos_disponibles_muchas_NO /casostotales)\n",
    "\n",
    "tengo_dinero_nada_SI = 0\n",
    "tengo_dinero_nada_NO = 0\n",
    "tengo_dinero_poco_SI = 0\n",
    "tengo_dinero_poco_NO = 0\n",
    "tengo_dinero_algo_SI = 0\n",
    "tengo_dinero_algo_NO = 0\n",
    "tengo_dinero_mucho_SI = 0\n",
    "tengo_dinero_mucho_NO = 0\n",
    "td_nada =0\n",
    "td_poco=0\n",
    "td_algo=0\n",
    "td_mucho=0\n",
    "\n"
   ]
  },
  {
   "cell_type": "code",
   "execution_count": 123,
   "metadata": {},
   "outputs": [
    {
     "ename": "ValueError",
     "evalue": "math domain error",
     "output_type": "error",
     "traceback": [
      "\u001b[1;31m---------------------------------------------------------------------------\u001b[0m",
      "\u001b[1;31mValueError\u001b[0m                                Traceback (most recent call last)",
      "\u001b[1;32m<ipython-input-123-0736c88ed85d>\u001b[0m in \u001b[0;36m<module>\u001b[1;34m\u001b[0m\n\u001b[0;32m      8\u001b[0m             \u001b[0mtd_nada\u001b[0m \u001b[1;33m=\u001b[0m \u001b[1;36m0\u001b[0m\u001b[1;33m\u001b[0m\u001b[1;33m\u001b[0m\u001b[0m\n\u001b[0;32m      9\u001b[0m         \u001b[1;32melse\u001b[0m\u001b[1;33m:\u001b[0m\u001b[1;33m\u001b[0m\u001b[1;33m\u001b[0m\u001b[0m\n\u001b[1;32m---> 10\u001b[1;33m              \u001b[0mtd_nada\u001b[0m \u001b[1;33m=\u001b[0m \u001b[0mtengo_dinero_nada_SI\u001b[0m\u001b[1;33m/\u001b[0m \u001b[0mcasostotales\u001b[0m \u001b[1;33m*\u001b[0m \u001b[0mmath\u001b[0m\u001b[1;33m.\u001b[0m\u001b[0mlog2\u001b[0m\u001b[1;33m(\u001b[0m\u001b[0mtengo_dinero_nada_SI\u001b[0m \u001b[1;33m/\u001b[0m \u001b[0mcasostotales\u001b[0m\u001b[1;33m)\u001b[0m \u001b[1;33m-\u001b[0m \u001b[0mtengo_dinero_nada_NO\u001b[0m \u001b[1;33m/\u001b[0m \u001b[0mcasostotales\u001b[0m \u001b[1;33m*\u001b[0m \u001b[0mmath\u001b[0m\u001b[1;33m.\u001b[0m\u001b[0mlog2\u001b[0m\u001b[1;33m(\u001b[0m\u001b[0mtengo_dinero_nada_NO\u001b[0m \u001b[1;33m/\u001b[0m\u001b[0mcasostotales\u001b[0m\u001b[1;33m)\u001b[0m\u001b[1;33m\u001b[0m\u001b[1;33m\u001b[0m\u001b[0m\n\u001b[0m\u001b[0;32m     11\u001b[0m \u001b[1;33m\u001b[0m\u001b[0m\n\u001b[0;32m     12\u001b[0m         \u001b[1;31m#POCAS\u001b[0m\u001b[1;33m\u001b[0m\u001b[1;33m\u001b[0m\u001b[1;33m\u001b[0m\u001b[0m\n",
      "\u001b[1;31mValueError\u001b[0m: math domain error"
     ]
    }
   ],
   "source": [
    "\n",
    "for i in range(casostotales):\n",
    "        # NINGUNA\n",
    "        if var4[i] == \"nada\" and respuesta[i] == \"SI\":\n",
    "            tengo_dinero_nada_SI = tengo_dinero_nada_SI + 1\n",
    "        if var4[i] == \"nada\" and respuesta[i] == \"NO\":\n",
    "            tengo_dinero_nada_NO = tengo_dinero_nada_NO + 1\n",
    "        if tengo_dinero_nada_SI or tengo_dinero_nada_NO == 0:\n",
    "            td_nada = 0\n",
    "        else:\n",
    "            td_nada = tengo_dinero_nada_SI/ casostotales * math.log2(tengo_dinero_nada_SI / casostotales) - tengo_dinero_nada_NO / casostotales * math.log2(tengo_dinero_nada_NO /casostotales)\n",
    "        \n",
    "        #POCAS\n",
    "        if var4[i] == \"poco\" and respuesta[i]==\"SI\":\n",
    "            tengo_dinero_poco_SI = tengo_dinero_poco_SI +1\n",
    "        if var4[i] == \"poco\" and respuesta[i] == \"NO\":\n",
    "            tengo_dinero_poco_NO = tengo_dinero_poco_NO + 1\n",
    "        if tengo_dinero_poco_SI or tengo_dinero_poco_NO == 0:\n",
    "            td_poco = 0\n",
    "        else:\n",
    "             td_poco = tengo_dinero_poco_SI/ casostotales * math.log2(tengo_dinero_poco_SI / casostotales) - tengo_dinero_poco_NO / casostotales * math.log2(tengo_dinero_poco_NO /casostotales)\n",
    "        #ALGUNAS\n",
    "        if var4[i] == \"algo\" and respuesta[i] == \"SI\":\n",
    "            tengo_dinero_algo_SI = tengo_dinero_algo_SI + 1\n",
    "        if var4[i] == \"algo\" and respuesta[i] == \"NO\":\n",
    "            tengo_dinero_algo_NO = tengo_dinero_algo_NO + 1\n",
    "        if tengo_dinero_algo_SI or tengo_dinero_algo_NO == 0:\n",
    "            td_algo = 0\n",
    "        else:\n",
    "            td_algo = tengo_dinero_algo_SI/ casostotales * math.log2(tengo_dinero_algo_SI / casostotales) - tengo_dinero_algo_NO / casostotales * math.log2(tengo_dinero_algo_NO /casostotales)\n",
    "        \n",
    "        #MUCHAS\n",
    "        if var4[i] == \"mucho\" and respuesta[i] == \"SI\":\n",
    "            tengo_dinero_mucho_SI = tengo_dinero_mucho_SI + 1\n",
    "        if var4[i] == \"mucho\" and respuesta[i] == \"NO\":\n",
    "            tengo_dinero_mucho_NO = tengo_dinero_mucho_NO + 1\n",
    "        if tengo_dinero_mucho_SI or tengo_dinero_mucho_NO == 0:\n",
    "            td_mucho = 0\n",
    "        else:\n",
    "            td_mucho = tengo_dinero_mucho_SI/ casostotales * math.log2(\n",
    "                 tengo_dinero_mucho_SI / casostotales) - tengo_dinero_mucho_NO / casostotales * math.log2(\n",
    "                 tengo_dinero_mucho_NO /casostotales)\n",
    "print(tengo_dinero[0], \"    \", tengo_dinero_nada_SI,\"    \", tengo_dinero_nada_NO,\"    \", tengo_dinero_nada_SI+tengo_dinero_nada_NO, \"    \", td_nada )\n",
    "print(tengo_dinero[1], \"    \", tengo_dinero_poco_SI,\"    \", tengo_dinero_poco_NO,\"    \", tengo_dinero_poco_SI+tengo_dinero_poco_NO, \"    \", td_poco )\n",
    "print(tengo_dinero[2],\"    \", tengo_dinero_algo_SI,\"    \", tengo_dinero_algo_NO,\"    \", tengo_dinero_algo_SI+tengo_dinero_algo_NO, \"    \", td_algo)\n",
    "print(tengo_dinero[3], \"    \", tengo_dinero_mucho_SI,\"    \", tengo_dinero_mucho_NO,\"    \", tengo_dinero_mucho_SI+tengo_dinero_mucho_NO, \"    \", td_mucho )"
   ]
  },
  {
   "cell_type": "markdown",
   "metadata": {},
   "source": [
    "#### Pelicula favorita\n"
   ]
  },
  {
   "cell_type": "code",
   "execution_count": 4,
   "metadata": {},
   "outputs": [
    {
     "ename": "SyntaxError",
     "evalue": "unmatched ')' (<ipython-input-4-d7f61a9d7435>, line 1)",
     "output_type": "error",
     "traceback": [
      "\u001b[1;36m  File \u001b[1;32m\"<ipython-input-4-d7f61a9d7435>\"\u001b[1;36m, line \u001b[1;32m1\u001b[0m\n\u001b[1;33m    (pelicula_favorita_ninguna_SI+pelicula_favorita_ninguna_NO/casostotales)*pf_ninguna)+((pelicula_favorita_pocas_SI+pelicula_favorita_pocas_NO/casostotales)*pf_pocas)+((pelicula_favorita_algunas_SI+pelicula_favorita_algunas_NO/casostotales)*pf_algunas)+((pelicula_favorita_muchas_SI+pelicula_favorita_muchas_NO/casostotales)*pf_muchas)\u001b[0m\n\u001b[1;37m                                                                                       ^\u001b[0m\n\u001b[1;31mSyntaxError\u001b[0m\u001b[1;31m:\u001b[0m unmatched ')'\n"
     ]
    }
   ],
   "source": [
    "(pelicula_favorita_ninguna_SI+pelicula_favorita_ninguna_NO/casostotales)*pf_ninguna)+((pelicula_favorita_pocas_SI+pelicula_favorita_pocas_NO/casostotales)*pf_pocas)+((pelicula_favorita_algunas_SI+pelicula_favorita_algunas_NO/casostotales)*pf_algunas)+((pelicula_favorita_muchas_SI+pelicula_favorita_muchas_NO/casostotales)*pf_muchas)"
   ]
  },
  {
   "cell_type": "code",
   "execution_count": 124,
   "metadata": {},
   "outputs": [
    {
     "name": "stdout",
     "output_type": "stream",
     "text": [
      "*******TABLAS DE GANACIA************\n",
      " PELICULA FAVORITA :   0.0\n",
      " HORA ADECUADA :   0.0\n",
      " ASIENTOS DISPONIBLES :   0.0\n",
      " TENGO DINERO :   0.0\n"
     ]
    }
   ],
   "source": [
    "print(\" PELICULA FAVORITA :  \", \n",
    "print(\" HORA ADECUADA :  \", ((hora_adecuada_mañana_SI+hora_adecuada_mañana_NO/casostotales)*ha_mañana)+((hora_adecuada_mediDia_SI+hora_adecuada_mediDia_NO/casostotales)*ha_mediodia)+((hora_adecuada_tarde_SI+hora_adecuada_tarde_NO/casostotales)*ha_tarde)+((hora_adecuada_noche_SI+hora_adecuada_noche_NO/casostotales)*ha_noche))\n",
    "print(\" ASIENTOS DISPONIBLES :  \", ((asientos_disponibles_ninguno_SI+asientos_disponibles_ninguno_NO/casostotales)*ad_ninguno)+((asientos_disponibles_pocos_SI+asientos_disponibles_pocos_NO/casostotales)*ad_pocos)+((asientos_disponibles_algunas_SI+asientos_disponibles_algunas_NO/casostotales)*ad_algunos)+((asientos_disponibles_muchas_SI+asientos_disponibles_muchas_NO/casostotales)*ad_muchos) )\n",
    "print(\" TENGO DINERO :  \",   ((tengo_dinero_nada_SI+tengo_dinero_nada_NO/casostotales)*td_nada)+((tengo_dinero_poco_SI+tengo_dinero_poco_NO/casostotales)*td_poco) + ((tengo_dinero_algo_SI+tengo_dinero_algo_NO/casostotales)*td_algo) + ((tengo_dinero_mucho_SI+tengo_dinero_mucho_NO/casostotales)*td_mucho))\n"
   ]
  },
  {
   "cell_type": "markdown",
   "metadata": {},
   "source": [
    "## Redes recurrentes Hopfield"
   ]
  },
  {
   "cell_type": "code",
   "execution_count": 61,
   "metadata": {},
   "outputs": [],
   "source": [
    "import numpy as np"
   ]
  },
  {
   "cell_type": "markdown",
   "metadata": {},
   "source": [
    " ### Ejemplo de clase"
   ]
  },
  {
   "cell_type": "markdown",
   "metadata": {},
   "source": [
    "<blockquote><div style=\"background-color:#DCDCDC; color:#000000; font-style: normal; font-family: Georgia;\">2021 - 03 - 08\n",
    "</div>Para el ejemplo de clase se entreno una red recurrente hopfield con patrones: x1=[1,1,1,-1] y x2=[-1,-1,-1,1]\n",
    "    \n",
    "</blockquote>\n"
   ]
  },
  {
   "cell_type": "markdown",
   "metadata": {},
   "source": [
    "![alt text](fig1.png)  "
   ]
  },
  {
   "cell_type": "markdown",
   "metadata": {},
   "source": [
    " #### Patrones"
   ]
  },
  {
   "cell_type": "code",
   "execution_count": 62,
   "metadata": {},
   "outputs": [],
   "source": [
    "x1=np.array([[1,1,1,-1]])\n",
    "x2=np.array([[-1,-1,-1,1]])"
   ]
  },
  {
   "cell_type": "markdown",
   "metadata": {},
   "source": [
    " #### Matriz T"
   ]
  },
  {
   "cell_type": "code",
   "execution_count": 63,
   "metadata": {},
   "outputs": [],
   "source": [
    "x1t=np.multiply(np.transpose(x1),x1)-np.eye(4)\n",
    "x2t=np.multiply(np.transpose(x2),x2)-np.eye(4)"
   ]
  },
  {
   "cell_type": "markdown",
   "metadata": {},
   "source": [
    "#### Entrenamiento"
   ]
  },
  {
   "cell_type": "code",
   "execution_count": 64,
   "metadata": {},
   "outputs": [
    {
     "data": {
      "text/plain": [
       "array([[ 0.,  2.,  2., -2.],\n",
       "       [ 2.,  0.,  2., -2.],\n",
       "       [ 2.,  2.,  0., -2.],\n",
       "       [-2., -2., -2.,  0.]])"
      ]
     },
     "execution_count": 64,
     "metadata": {},
     "output_type": "execute_result"
    }
   ],
   "source": [
    "T=x1t+x2t\n",
    "T"
   ]
  },
  {
   "cell_type": "markdown",
   "metadata": {},
   "source": [
    "#### Recuperacion\n"
   ]
  },
  {
   "cell_type": "code",
   "execution_count": 52,
   "metadata": {},
   "outputs": [
    {
     "data": {
      "text/plain": [
       "array([[ 6.,  6.,  6., -6.]])"
      ]
     },
     "execution_count": 52,
     "metadata": {},
     "output_type": "execute_result"
    }
   ],
   "source": [
    "A=np.array([[1,1,1,-1]])\n",
    "u1=np.matmul(A,T) #El orden e los factores en algebra lineal si altera el producto\n",
    "u1"
   ]
  },
  {
   "cell_type": "markdown",
   "metadata": {},
   "source": [
    "Eso me lo tope aqui [multiplicaciones de matrices utilizando arreglos NumPy][1].\n",
    "\n",
    "[1]: https://likegeeks.com/es/multiplicacion-matriz-numpy/ \"multiplicaciones de matrices utilizando arreglos NumPy\""
   ]
  },
  {
   "cell_type": "markdown",
   "metadata": {},
   "source": [
    "#### Evaluacion\n"
   ]
  },
  {
   "cell_type": "code",
   "execution_count": 125,
   "metadata": {},
   "outputs": [
    {
     "data": {
      "text/plain": [
       "array([[ 1.,  1.,  1., -1.]])"
      ]
     },
     "execution_count": 125,
     "metadata": {},
     "output_type": "execute_result"
    }
   ],
   "source": [
    "n=u1.copy() # fuerzo la copia de U(1) en un temporal porque un objeto en numpy es por referencia.\n",
    "for x in n:\n",
    "    cont=0\n",
    "    for y in x:\n",
    "        if y<0:\n",
    "            x[cont]=-1\n",
    "        elif y > 0:\n",
    "            x[cont]=1\n",
    "        cont=cont+1\n",
    "n"
   ]
  },
  {
   "cell_type": "code",
   "execution_count": 50,
   "metadata": {},
   "outputs": [
    {
     "name": "stdout",
     "output_type": "stream",
     "text": [
      "Similitud 100% en x1 =  [[ 1  1  1 -1]]\n"
     ]
    }
   ],
   "source": [
    "if (n==x1).all(): #Esque la comparacion sin el .all() me devuelve un array([]) de cada elemento individual.\n",
    "    print(\"Similitud 100% en x1 = \",x1)\n",
    "if (n==x2).all():\n",
    "    print(\"Similitud 100 en x2 = \",x2)"
   ]
  },
  {
   "cell_type": "markdown",
   "metadata": {},
   "source": [
    "### Ejercicio reconocimiento de patrones"
   ]
  },
  {
   "cell_type": "code",
   "execution_count": 20,
   "metadata": {},
   "outputs": [
    {
     "name": "stderr",
     "output_type": "stream",
     "text": [
      "c:\\users\\administrador\\appdata\\local\\programs\\python\\python39\\lib\\site-packages\\numpy\\matrixlib\\defmatrix.py:145: VisibleDeprecationWarning: Creating an ndarray from ragged nested sequences (which is a list-or-tuple of lists-or-tuples-or ndarrays with different lengths or shapes) is deprecated. If you meant to do this, you must specify 'dtype=object' when creating the ndarray.\n",
      "  arr = N.array(data, dtype=dtype, copy=copy)\n"
     ]
    }
   ],
   "source": [
    "pa=np.matrix([\n",
    "    [-1,-1,1,-1,1],\n",
    "    [-1,1,-1,1-1],\n",
    "    [-1,1,1,1-1],\n",
    "    [-1,1,-1,1-1],\n",
    "    [-1,1,-1,1-1]\n",
    "])\n",
    "\n",
    "px=np.matrix([\n",
    "    [1,-1,-1,-1,1],\n",
    "    [-1,1,-1,1,-1],\n",
    "    [-1,-1,1,-1,-1],\n",
    "    [-1,1,-1,1,-1],\n",
    "    [1,-1,-1,-1,1]\n",
    "])\n",
    "\n",
    "po=np.matrix([\n",
    "    [1,1,1,1,1],\n",
    "    [1,-1,-1,-1,1],\n",
    "    [1,-1,1,-1,1],\n",
    "    [1,-1,-1,-1,1],\n",
    "    [1,1,1,1,1]\n",
    "])"
   ]
  },
  {
   "cell_type": "markdown",
   "metadata": {},
   "source": [
    "$$\\sum_{m = 0}^{j = _{n-1}} T _{1}  * X _{1} $$"
   ]
  },
  {
   "cell_type": "markdown",
   "metadata": {},
   "source": [
    "### Entrenamiento"
   ]
  },
  {
   "cell_type": "markdown",
   "metadata": {},
   "source": [
    "$$ U(1) = F(U _{(0)}*T)=(1 1 1 1 -1) $$"
   ]
  },
  {
   "cell_type": "markdown",
   "metadata": {},
   "source": [
    "# Sistema de inferencia difusa"
   ]
  },
  {
   "cell_type": "code",
   "execution_count": 44,
   "metadata": {},
   "outputs": [],
   "source": [
    "import inferfuzzy as fuzlog"
   ]
  },
  {
   "cell_type": "markdown",
   "metadata": {},
   "source": [
    "La biblioteca contiene implementados los métodos de inferencia Mamdani y Larsen. Pero es posible implementar partiendo de una base común otros métodos de inferencia. Los métodos de inferencia reciben una función de defuzzificación. La biblioteca contiene implementadas Centroide, Bisectriz, Máximo Central, Máximo más pequeño y Máximo más grande.\n",
    "\n",
    "La implementación se sostiene sobre 7 clases fundamentales:\n",
    "- Membership\n",
    "- BaseSet\n",
    "- BaseVar\n",
    "- BaseRule\n",
    "- Predicate\n",
    "- InferenceSystem\n",
    "\n",
    "Funciones de membresía implementadas:\n",
    "\n",
    "- Función Gamma\n",
    "- Función Lambda o Triangular\n",
    "- Función Pi o Trapezoidal\n",
    "- Función S\n",
    "- Función Z\n",
    "- Función Gaussian\n"
   ]
  },
  {
   "cell_type": "markdown",
   "metadata": {},
   "source": [
    "### Ejemplo de clase "
   ]
  },
  {
   "cell_type": "markdown",
   "metadata": {},
   "source": [
    "<blockquote><div style=\"background-color:#DCDCDC; color:#000000; font-style: normal; font-family: Georgia;\">2021 - 03 - 22\n",
    "</div>Para el ejemplo de clase se uso la funcion de membresia trapezoidal(pi_membership). Para un sistemade inferencia usand la logica difusa con Variables de entrada = {Comida,Servicio} y Variables de salida = {Propina}.\n",
    "    \n",
    "</blockquote>\n"
   ]
  },
  {
   "cell_type": "markdown",
   "metadata": {},
   "source": [
    "![alt text](clase_2_difusos.png)"
   ]
  },
  {
   "cell_type": "markdown",
   "metadata": {},
   "source": [
    "### Funciones de membresia"
   ]
  },
  {
   "cell_type": "markdown",
   "metadata": {},
   "source": [
    "Durante el proceso de definición de los conjuntos difusos esto requieren una función de membresía que \n",
    "puede ser implementada o utilizar una de las disponibles en la biblioteca."
   ]
  },
  {
   "cell_type": "markdown",
   "metadata": {},
   "source": [
    "\n",
    "```python\n",
    "\n",
    "# Realizaremos la declaración de las variables lingüísticas y sus conjuntos difusos.\n",
    "comida_1 = Var(\"Comida\")\n",
    "comida_1 += \"malo\", pi_membership(1, 3)\n",
    "comida_1 += \"regular\", pi_membership(3, 7)\n",
    "comida_1 += \"excelente\", pi_membership(6, 10)\n",
    "\n",
    "servicio_1 = Var(\"Servicio\")\n",
    "servicio_1 += \"feo\", pi_membership(1, 3)\n",
    "servicio_1 += \"comible\", pi_membership(3, 7)\n",
    "servicio_1 += \"rico\", pi_membership(7, 10)\n",
    "\n",
    "propina_1 = Var(\"Propina\")\n",
    "propina_1 += \"poca\", pi_membership(1, 3)\n",
    "propina_1 += \"algo\", pi_membership(3, 7)\n",
    "propina_1 += \"mucho\", pi_membership(7, 10)\n",
    "```\n",
    "\n"
   ]
  },
  {
   "cell_type": "markdown",
   "metadata": {},
   "source": [
    "<blockquote><div style=\"background-color:#DCDCDC; color:#000000; font-style: normal; font-family: Georgia;\">Nota:\n",
    "</div>En logica difusa la diferencia  entre los arboles de decision es que no se cuantifican, aqui es a traves de la funcion de membresia.</blockquote>"
   ]
  },
  {
   "cell_type": "markdown",
   "metadata": {},
   "source": [
    "### Reglas de inferencia\n",
    "\n",
    "Se usara el modelo mamdami que es un conjunto de reglas _if-then-out_ con una presuncion por conexion.\n",
    "\n",
    "\n",
    "\n",
    "```python\n",
    "# Declaración de reglas de inferencia.\n",
    "mamdani = mamdaniSystem(defuzz_func=centroid_defuzzification)\n",
    "mamdani += comida_1.into(\"malo\") & servicio_1.into(\"feo\"), propina_1.into(\"poca\")\n",
    "mamdani += comida_1.into(\"malo\") & servicio_1.into(\"feo\"), propina_1.into(\"algo\")\n",
    "mamdani += comida_1.into(\"malo\") & servicio_1.into(\"feo\"), propina_1.into(\"mucho\")\n",
    "mamdani += comida_1.into(\"malo\") & servicio_1.into(\"comible\"), propina_1.into(\"poca\")\n",
    "mamdani += comida_1.into(\"malo\") & servicio_1.into(\"comible\"), propina_1.into(\"algo\")\n",
    "mamdani += comida_1.into(\"malo\") & servicio_1.into(\"comible\"), propina_1.into(\"mucho\")\n",
    "mamdani += comida_1.into(\"malo\") & servicio_1.into(\"rico\"), propina_1.into(\"poca\")\n",
    "mamdani += comida_1.into(\"malo\") & servicio_1.into(\"rico\"), propina_1.into(\"algo\")\n",
    "mamdani += comida_1.into(\"malo\") & servicio_1.into(\"rico\"), propina_1.into(\"mucho\")\n",
    "mamdani += comida_1.into(\"regular\") & servicio_1.into(\"feo\"), propina_1.into(\"poca\")\n",
    "mamdani += comida_1.into(\"regular\") & servicio_1.into(\"feo\"), propina_1.into(\"algo\")\n",
    "mamdani += comida_1.into(\"regular\") & servicio_1.into(\"feo\"), propina_1.into(\"mucho\")\n",
    "mamdani += comida_1.into(\"regular\") & servicio_1.into(\"comible\"), propina_1.into(\"poca\")\n",
    "mamdani += comida_1.into(\"regular\") & servicio_1.into(\"comible\"), propina_1.into(\"algo\")\n",
    "mamdani += comida_1.into(\"regular\") & servicio_1.into(\"comible\"), propina_1.into(\"mucho\")\n",
    "mamdani += comida_1.into(\"regular\") & servicio_1.into(\"rico\"), propina_1.into(\"poca\")\n",
    "mamdani += comida_1.into(\"regular\") & servicio_1.into(\"rico\"), propina_1.into(\"algo\")\n",
    "mamdani += comida_1.into(\"regular\") & servicio_1.into(\"rico\"), propina_1.into(\"mucho\")\n",
    "mamdani += comida_1.into(\"excelente\") & servicio_1.into(\"feo\"), propina_1.into(\"poca\")\n",
    "mamdani += comida_1.into(\"excelente\") & servicio_1.into(\"feo\"), propina_1.into(\"algo\")\n",
    "mamdani += comida_1.into(\"excelente\") & servicio_1.into(\"feo\"), propina_1.into(\"mucho\")\n",
    "mamdani += comida_1.into(\"excelente\") & servicio_1.into(\"comible\"), propina_1.into(\"poca\")\n",
    "mamdani += comida_1.into(\"excelente\") & servicio_1.into(\"comible\"), propina_1.into(\"algo\")\n",
    "mamdani += comida_1.into(\"excelente\") & servicio_1.into(\"comible\"), propina_1.into(\"mucho\")\n",
    "mamdani += comida_1.into(\"excelente\") & servicio_1.into(\"rico\"), propina_1.into(\"poca\")\n",
    "mamdani += comida_1.into(\"excelente\") & servicio_1.into(\"rico\"), propina_1.into(\"algo\")\n",
    "mamdani += comida_1.into(\"excelente\") & servicio_1.into(\"rico\"), propina_1.into(\"mucho\")\n",
    "```"
   ]
  },
  {
   "cell_type": "markdown",
   "metadata": {},
   "source": [
    "#### Tabla de combinaciones de reglas posibles.\n",
    "|Comida|Servicio|Propina|\n",
    "|:----:|:------:|:-----:|\n",
    "|malo|feo|poco|\n",
    "|malo|feo|algo|\n",
    "|malo|feo|mucho|\n",
    "|malo|comible|poco|\n",
    "|malo|comible|algo|\n",
    "|malo|comible|mucho|\n",
    "|malo|rico|poco|\n",
    "|malo|rico|algo|\n",
    "|malo|rico|mucho|\n",
    "|regular|feo|poco|\n",
    "|regular|feo|algo|\n",
    "|regular|feo|mucho|\n",
    "|regular|comible|poco|\n",
    "|regular|comible|algo|\n",
    "|regular|comible|mucho|\n",
    "|regular|rico|poco|\n",
    "|regular|rico|algo|\n",
    "|regular|rico|mucho|\n",
    "|excelente|feo|poco|\n",
    "|excelente|feo|algo|\n",
    "|excelente|feo|mucho|\n",
    "|excelente|comible|poco|\n",
    "|excelente|comible|algo|\n",
    "|excelente|comible|mucho|\n",
    "|excelente|rico|poco|\n",
    "|excelente|rico|algo|\n",
    "|excelente|rico|mucho|"
   ]
  },
  {
   "cell_type": "code",
   "execution_count": null,
   "metadata": {},
   "outputs": [],
   "source": []
  }
 ],
 "metadata": {
  "kernelspec": {
   "display_name": "Python 3",
   "language": "python",
   "name": "python3"
  },
  "language_info": {
   "codemirror_mode": {
    "name": "ipython",
    "version": 3
   },
   "file_extension": ".py",
   "mimetype": "text/x-python",
   "name": "python",
   "nbconvert_exporter": "python",
   "pygments_lexer": "ipython3",
   "version": "3.9.2"
  }
 },
 "nbformat": 4,
 "nbformat_minor": 2
}
