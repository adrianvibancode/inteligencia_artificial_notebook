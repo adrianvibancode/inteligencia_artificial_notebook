{
 "cells": [
  {
   "cell_type": "markdown",
   "metadata": {},
   "source": [
    "## Redes semanticas "
   ]
  },
  {
   "cell_type": "code",
   "execution_count": 2,
   "metadata": {},
   "outputs": [],
   "source": [
    "import networkx as nx"
   ]
  },
  {
   "cell_type": "code",
   "execution_count": null,
   "metadata": {},
   "outputs": [],
   "source": [
    "G = nx.Graph() # crear un grafo\n",
    "\n",
    "G.add_node(\"Kevin Bacon\")\n",
    "G.add_node(\"Tom Hanks\")\n",
    "G.add_nodes_from([\"Meg Ryan\", \"Parker Posey\", \"Lisa Kudrow\"])"
   ]
  },
  {
   "cell_type": "code",
   "execution_count": null,
   "metadata": {},
   "outputs": [],
   "source": [
    "G.add_edge(\"Kevin Bacon\", \"Tom Hanks\")\n",
    "G.add_edge(\"Kevin Bacon\", \"Meg Ryan\")\n",
    "G.add_edges_from([(\"Tom Hanks\", \"Meg Ryan\"), (\"Tom Hanks\", \"Parker Posey\")])\n",
    "G.add_edges_from([(\"Parker Posey\", \"Meg Ryan\"), (\"Parker Posey\", \"Lisa Kudrow\")])\n"
   ]
  }
 ],
 "metadata": {
  "kernelspec": {
   "display_name": "Python 3",
   "language": "python",
   "name": "python3"
  },
  "language_info": {
   "codemirror_mode": {
    "name": "ipython",
    "version": 3
   },
   "file_extension": ".py",
   "mimetype": "text/x-python",
   "name": "python",
   "nbconvert_exporter": "python",
   "pygments_lexer": "ipython3",
   "version": "3.9.2"
  }
 },
 "nbformat": 4,
 "nbformat_minor": 2
}
