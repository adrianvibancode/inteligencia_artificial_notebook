{
 "cells": [
  {
   "cell_type": "markdown",
   "metadata": {},
   "source": [
    "# CBR"
   ]
  },
  {
   "cell_type": "code",
   "execution_count": null,
   "metadata": {},
   "outputs": [],
   "source": [
    "import random\n",
    "from tools import leerarchivo #mi libreria de utilidades\n",
    "\n",
    "data = open('data.csv','w') # Archivo data\n",
    "ln= [] # Linea de texto para agregar al buffer\n",
    "\n",
    "var1=0\n",
    "var2=0\n",
    "var3=0\n",
    "var4=0\n",
    "res=\"\"\n",
    "\n",
    "for i in range(1,1001):\n",
    "    var1=random.randint(1,4)\n",
    "    var2=random.randint(1,4)\n",
    "    var3=random.randint(1,4)\n",
    "    var4=random.randint(1,4)\n",
    "    \n",
    "    if var1 ==1 and var2==1 and var3==1 and var4==1:\n",
    "        res=\"si\"\n",
    "    if var1 ==2 and var2==1 and var3==2 and var4==2:\n",
    "        res=\"si\"\n",
    "    else:\n",
    "        res=\"no\"\n",
    "    \n",
    "    ln=str(i)+\",\"+str(var1)+\",\"+str(var2)+\",\"+str(var3)+\",\"+str(var4)+\",\"+res+\"\\n\"\n",
    "    buffer=str(ln)\n",
    "    data.write(buffer)\n",
    "\n",
    "\n",
    "data.close()"
   ]
  },
  {
   "cell_type": "markdown",
   "metadata": {},
   "source": [
    "Cuantas veces fue si y cuantas no de cada atributo."
   ]
  },
  {
   "cell_type": "code",
   "execution_count": null,
   "metadata": {},
   "outputs": [],
   "source": [
    "# Lectura del archivo data.csv\n",
    "data = open('data.csv','r')\n",
    "leerarchivo(data)\n",
    "data.close()"
   ]
  },
  {
   "cell_type": "markdown",
   "metadata": {},
   "source": [
    "### R2 modelo de reutilizacion"
   ]
  },
  {
   "cell_type": "code",
   "execution_count": null,
   "metadata": {},
   "outputs": [],
   "source": [
    "#Coseno\n",
    "num=3\n",
    "\n",
    "start = time.time() \n",
    "data = open('data.csv','r') # \n",
    "line=[]\n",
    "v2=[]\n",
    "\n",
    "cont=0\n",
    "\n",
    "for i in data:\n",
    "    cont=cont+1 \n",
    "    line = i.split(\",\")\n",
    "    print(line)\n",
    "    for j in line:        \n",
    "        v2.append(int(j))\n",
    "    print(\"Coseno:\", coseno(v1,v2))\n",
    "    v2=[]\n",
    "\n",
    "    if(cont==num):\n",
    "        break"
   ]
  },
  {
   "cell_type": "markdown",
   "metadata": {},
   "source": [
    "### R3 utilizando medidas de umbral"
   ]
  },
  {
   "cell_type": "markdown",
   "metadata": {},
   "source": [
    "R4 retener para almacenar aquellos casos que cumplen con th."
   ]
  },
  {
   "cell_type": "code",
   "execution_count": null,
   "metadata": {},
   "outputs": [],
   "source": [
    "if rend >=60:\n",
    "    dat"
   ]
  }
 ],
 "metadata": {
  "kernelspec": {
   "display_name": "Python 3",
   "language": "python",
   "name": "python3"
  },
  "language_info": {
   "codemirror_mode": {
    "name": "ipython",
    "version": 3
   },
   "file_extension": ".py",
   "mimetype": "text/x-python",
   "name": "python",
   "nbconvert_exporter": "python",
   "pygments_lexer": "ipython3",
   "version": "3.9.2"
  }
 },
 "nbformat": 4,
 "nbformat_minor": 2
}
