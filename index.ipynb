{
 "metadata": {
  "language_info": {
   "codemirror_mode": {
    "name": "ipython",
    "version": 3
   },
   "file_extension": ".py",
   "mimetype": "text/x-python",
   "name": "python",
   "nbconvert_exporter": "python",
   "pygments_lexer": "ipython3",
   "version": "3.8.5-final"
  },
  "orig_nbformat": 2,
  "kernelspec": {
   "name": "Python 3.8.5 32-bit",
   "display_name": "Python 3.8.5 32-bit",
   "metadata": {
    "interpreter": {
     "hash": "a0faa73b1fffa7011d4f3280dde6b612b52ae307dcf00ebc388ba91c34d587ba"
    }
   }
  }
 },
 "nbformat": 4,
 "nbformat_minor": 2,
 "cells": [
  {
   "cell_type": "code",
   "execution_count": 1,
   "metadata": {},
   "outputs": [],
   "source": [
    "import random"
   ]
  },
  {
   "source": [
    "1.1. Panorama Histórico \n",
    "\n",
    "    Antigua Grecia Aristoteles 300 A.C Silogismo\n",
    "    Ctesibio 258 A.C, Clebsidra\n",
    "    isodoro de sevilla 556, Bases de Datos\n",
    "    Al-juarismi 700, Algoritmo\n",
    "    Ramon Lull 1282, Ars Magna, de lo divino a lo real\n",
    "    Boole y morgan logica booleana\n",
    "    \n",
    "\n",
    "\n",
    "1.1.2. Conceptos y definiciones \n",
    "\n",
    "1.1.3. Razonamiento y Lógica \n",
    "\n",
    "1.1.4. Ejemplo de Aplicaciones\n"
   ],
   "cell_type": "markdown",
   "metadata": {}
  },
  {
   "source": [
    "*Tarea 1:*\n",
    "Desde que el hombre decidio asentarse en un lugar, le dio mas tiempo para pensar, y al pensar mas, crecio la necesidad de conocerse a si mismo y los fenomenos de su entorno, la agricultura conecto, desde ahi la autoconciencia se ha ido desarrollando, las ideas tan variadas de extender los procesos cognocitivos a maquinas creadas por la mano humana y dotarlos de entendimiento, ha llevado a idealizar la labor de una maquina pensante con acciones y conocimiento almacenado desde un inicio, una dualidad entre los procesos automaticos y los procesos programados a traves de la repeticion, lo que Decartes defendia como libre albedrio, ahora a nivel de creación.\n",
    "\n",
    "Ahora podemos dar un ejemplo de implementacion  de un sistema dotado de cierta inteligencia, en materia de experiencia de usuario, el ejemplo de Netflix sería, su selección de portada, los datos que obtiene a partir de  preferencias y comportamientos, los entiede para darle un sentido y elegir una portada adecuada.\n",
    "\n",
    "\n"
   ],
   "cell_type": "markdown",
   "metadata": {}
  },
  {
   "cell_type": "code",
   "execution_count": 2,
   "metadata": {},
   "outputs": [],
   "source": [
    "#Tarea 2"
   ]
  },
  {
   "cell_type": "code",
   "execution_count": 3,
   "metadata": {},
   "outputs": [],
   "source": [
    "#Tarea 3"
   ]
  },
  {
   "cell_type": "markdown",
   "metadata": {},
   "source": [
    "*Generador DE NUMEROS ALEATORIOS para DATA*\n",
    "\n",
    "**Carros** { 1:ninguno, 2:poco, 3:algunos, 4:muchos }\n",
    "\n",
    "**Luz** { 1:verde, 2:ambar, 3:roja }\n",
    "\n",
    "**Velocidad** { 1:lenta, 2:media, 3:rapida }\n",
    "\n",
    "**Tiempo** { 1:mañana, 2:mediodia, 3:tarde, 4:noche }\n",
    "\n"
   ]
  },
  {
   "cell_type": "code",
   "execution_count": 4,
   "metadata": {
    "tags": []
   },
   "outputs": [],
   "source": [
    "\n",
    "data = open('data.txt','w')\n",
    "ln= []\n",
    "for i in range(1,1000):\n",
    "    ln=str(i)+\"| \"+str(random.randint(1,4))+\" \"+str(random.randint(1,3))+\" \"+str(random.randint(1,3))+\" \"+str(random.randint(1,4))+\" \\n\"\n",
    "    buffer=str(ln)\n",
    "    data.write(buffer)\n",
    "data.close()"
   ]
  },
  {
   "source": [
    "*Vector de caracteristicas DATA:{**carros:[], luz[], velocidad[], tiempo[]** } *\n",
    "\n",
    "data.txt"
   ],
   "cell_type": "markdown",
   "metadata": {}
  },
  {
   "cell_type": "code",
   "execution_count": 5,
   "metadata": {
    "tags": []
   },
   "outputs": [
    {
     "output_type": "stream",
     "name": "stdout",
     "text": "1| 3 3 2 3 \n\n2| 2 1 3 1 \n\n3| 1 1 1 4 \n\n4| 4 2 2 2 \n\n5| 1 2 3 4 \n\n6| 2 3 3 1 \n\n7| 3 2 3 4 \n\n8| 4 1 1 1 \n\n9| 3 2 2 2 \n\n10| 3 1 3 1 \n\n11| 1 2 3 4 \n\n12| 1 1 3 2 \n\n13| 1 1 3 2 \n\n14| 1 3 3 1 \n\n15| 1 2 3 1 \n\n16| 1 2 1 3 \n\n17| 2 2 1 3 \n\n18| 1 3 3 3 \n\n19| 4 2 2 1 \n\n20| 1 3 1 3 \n\n21| 2 2 1 3 \n\n22| 3 1 2 4 \n\n23| 4 1 2 1 \n\n24| 3 1 2 4 \n\n25| 1 2 3 2 \n\n26| 4 1 1 4 \n\n27| 3 2 1 3 \n\n28| 3 3 3 4 \n\n29| 2 1 1 1 \n\n30| 3 2 2 3 \n\n31| 1 3 1 1 \n\n32| 4 2 2 2 \n\n33| 4 2 3 3 \n\n34| 1 3 3 2 \n\n35| 2 1 2 4 \n\n36| 1 1 1 1 \n\n37| 3 2 2 3 \n\n38| 3 1 1 3 \n\n39| 1 2 2 3 \n\n40| 1 2 1 2 \n\n41| 1 1 3 2 \n\n42| 3 2 1 3 \n\n43| 3 2 1 2 \n\n44| 1 3 3 2 \n\n45| 4 3 3 1 \n\n46| 2 1 2 1 \n\n47| 4 3 2 3 \n\n48| 3 2 1 3 \n\n49| 4 2 3 4 \n\n50| 3 2 1 4 \n\n51| 1 1 3 4 \n\n52| 4 2 3 3 \n\n53| 2 3 1 4 \n\n54| 4 3 1 3 \n\n55| 4 1 3 4 \n\n56| 2 1 2 1 \n\n57| 4 1 3 2 \n\n58| 1 2 3 3 \n\n59| 2 1 3 2 \n\n60| 2 3 3 1 \n\n61| 1 2 3 3 \n\n62| 1 3 3 3 \n\n63| 1 3 1 4 \n\n64| 4 2 2 3 \n\n65| 3 3 1 3 \n\n66| 2 2 2 3 \n\n67| 2 1 2 2 \n\n68| 3 2 3 4 \n\n69| 2 2 1 3 \n\n70| 2 2 2 3 \n\n71| 2 2 2 1 \n\n72| 4 1 2 2 \n\n73| 3 2 2 1 \n\n74| 3 1 2 3 \n\n75| 2 2 1 1 \n\n76| 3 1 1 3 \n\n77| 1 1 1 1 \n\n78| 2 3 3 2 \n\n79| 4 2 1 2 \n\n80| 2 3 2 2 \n\n81| 3 3 2 4 \n\n82| 3 2 1 1 \n\n83| 2 2 1 1 \n\n84| 1 3 3 3 \n\n85| 2 1 3 1 \n\n86| 3 1 2 1 \n\n87| 2 1 3 2 \n\n88| 3 3 1 1 \n\n89| 2 2 2 4 \n\n90| 3 2 1 2 \n\n91| 3 2 3 3 \n\n92| 3 1 1 4 \n\n93| 4 2 2 1 \n\n94| 1 2 2 3 \n\n95| 4 3 1 3 \n\n96| 4 2 3 4 \n\n97| 2 1 2 1 \n\n98| 1 3 3 4 \n\n99| 2 1 1 2 \n\n100| 4 1 1 2 \n\n101| 3 2 1 2 \n\n102| 3 2 3 4 \n\n103| 3 1 1 4 \n\n104| 4 2 3 3 \n\n105| 3 1 1 1 \n\n106| 4 2 3 2 \n\n107| 4 2 1 3 \n\n108| 1 2 1 1 \n\n109| 4 1 1 1 \n\n110| 4 3 2 1 \n\n111| 2 1 3 2 \n\n112| 1 3 2 1 \n\n113| 2 3 2 1 \n\n114| 2 2 3 4 \n\n115| 3 2 2 2 \n\n116| 1 1 3 3 \n\n117| 2 3 1 1 \n\n118| 4 1 3 1 \n\n119| 3 2 1 3 \n\n120| 3 3 3 4 \n\n121| 1 3 2 2 \n\n122| 3 3 1 4 \n\n123| 1 3 1 1 \n\n124| 4 1 1 3 \n\n125| 4 3 3 4 \n\n126| 4 2 2 3 \n\n127| 1 3 2 1 \n\n128| 2 1 3 1 \n\n129| 1 2 3 2 \n\n130| 3 1 1 1 \n\n131| 1 1 3 4 \n\n132| 4 3 2 3 \n\n133| 1 1 2 3 \n\n134| 4 3 3 2 \n\n135| 2 1 3 4 \n\n136| 2 1 3 4 \n\n137| 4 2 3 2 \n\n138| 3 2 1 1 \n\n139| 4 3 2 2 \n\n140| 1 3 1 4 \n\n141| 1 1 3 4 \n\n142| 3 2 1 4 \n\n143| 2 2 1 2 \n\n144| 2 2 2 4 \n\n145| 1 3 1 2 \n\n146| 3 2 2 3 \n\n147| 3 3 1 3 \n\n148| 2 2 3 1 \n\n149| 1 2 2 4 \n\n150| 3 3 1 3 \n\n151| 3 1 3 1 \n\n152| 1 3 1 3 \n\n153| 3 2 3 1 \n\n154| 2 3 1 2 \n\n155| 1 1 3 2 \n\n156| 2 3 3 3 \n\n157| 3 2 2 3 \n\n158| 3 3 2 1 \n\n159| 1 3 2 4 \n\n160| 2 2 1 2 \n\n161| 4 3 3 3 \n\n162| 3 2 2 3 \n\n163| 2 3 2 2 \n\n164| 4 3 3 3 \n\n165| 1 2 3 3 \n\n166| 2 3 1 3 \n\n167| 4 1 2 2 \n\n168| 4 3 3 2 \n\n169| 2 3 1 2 \n\n170| 2 1 3 4 \n\n171| 2 3 3 2 \n\n172| 2 3 1 1 \n\n173| 4 1 1 3 \n\n174| 1 2 2 1 \n\n175| 2 2 1 2 \n\n176| 4 2 1 2 \n\n177| 3 2 2 2 \n\n178| 1 3 3 2 \n\n179| 2 2 2 1 \n\n180| 2 2 1 1 \n\n181| 1 1 1 4 \n\n182| 4 1 3 2 \n\n183| 2 2 3 4 \n\n184| 3 1 2 4 \n\n185| 1 3 3 4 \n\n186| 2 1 3 1 \n\n187| 1 2 1 3 \n\n188| 3 1 2 1 \n\n189| 3 2 3 1 \n\n190| 4 3 2 3 \n\n191| 3 1 3 4 \n\n192| 2 2 1 2 \n\n193| 1 2 2 4 \n\n194| 1 3 3 3 \n\n195| 4 2 2 1 \n\n196| 4 2 3 1 \n\n197| 1 3 3 2 \n\n198| 1 1 3 3 \n\n199| 3 1 2 1 \n\n200| 3 3 1 4 \n\n201| 4 3 3 4 \n\n202| 3 2 1 2 \n\n203| 2 1 2 1 \n\n204| 3 2 2 3 \n\n205| 3 2 1 1 \n\n206| 1 3 3 3 \n\n207| 3 1 3 2 \n\n208| 3 1 3 2 \n\n209| 2 1 2 3 \n\n210| 3 3 1 1 \n\n211| 3 3 3 3 \n\n212| 1 1 2 1 \n\n213| 2 1 2 1 \n\n214| 1 1 2 4 \n\n215| 2 3 2 1 \n\n216| 3 2 2 4 \n\n217| 2 3 3 2 \n\n218| 1 2 1 2 \n\n219| 3 3 2 3 \n\n220| 4 2 3 3 \n\n221| 4 1 2 4 \n\n222| 4 2 2 2 \n\n223| 3 1 2 3 \n\n224| 3 1 3 1 \n\n225| 1 3 2 3 \n\n226| 1 3 2 2 \n\n227| 3 1 2 2 \n\n228| 1 1 2 1 \n\n229| 4 3 2 4 \n\n230| 2 1 1 4 \n\n231| 2 1 1 2 \n\n232| 2 3 1 2 \n\n233| 4 2 1 3 \n\n234| 2 2 2 3 \n\n235| 3 1 2 1 \n\n236| 2 3 2 4 \n\n237| 3 2 3 3 \n\n238| 4 2 2 2 \n\n239| 2 3 2 2 \n\n240| 1 1 1 3 \n\n241| 2 1 1 3 \n\n242| 3 1 3 3 \n\n243| 2 3 2 3 \n\n244| 2 1 1 1 \n\n245| 2 2 2 2 \n\n246| 4 3 3 2 \n\n247| 4 1 2 4 \n\n248| 2 2 2 1 \n\n249| 4 1 3 4 \n\n250| 2 2 2 3 \n\n251| 3 2 2 3 \n\n252| 1 1 3 1 \n\n253| 1 1 3 3 \n\n254| 3 1 2 1 \n\n255| 4 2 1 2 \n\n256| 3 3 3 4 \n\n257| 2 1 2 3 \n\n258| 2 3 2 2 \n\n259| 1 2 2 1 \n\n260| 4 2 1 4 \n\n261| 2 2 2 3 \n\n262| 3 2 1 4 \n\n263| 4 1 1 2 \n\n264| 2 3 2 1 \n\n265| 2 2 2 2 \n\n266| 4 2 1 1 \n\n267| 1 1 2 3 \n\n268| 3 2 2 1 \n\n269| 2 2 3 2 \n\n270| 2 3 2 3 \n\n271| 3 2 1 3 \n\n272| 2 1 2 1 \n\n273| 1 2 2 4 \n\n274| 2 1 1 3 \n\n275| 2 1 1 4 \n\n276| 2 2 3 4 \n\n277| 4 1 2 2 \n\n278| 2 3 1 1 \n\n279| 2 1 1 4 \n\n280| 2 2 2 2 \n\n281| 2 1 1 3 \n\n282| 1 1 3 3 \n\n283| 2 1 3 2 \n\n284| 4 3 1 1 \n\n285| 2 1 2 4 \n\n286| 4 1 2 2 \n\n287| 1 3 2 3 \n\n288| 1 2 1 2 \n\n289| 3 3 1 3 \n\n290| 1 1 2 3 \n\n291| 2 2 1 1 \n\n292| 4 2 1 1 \n\n293| 1 3 1 1 \n\n294| 1 1 2 2 \n\n295| 2 2 2 1 \n\n296| 2 3 3 2 \n\n297| 1 2 3 2 \n\n298| 3 1 3 4 \n\n299| 4 1 3 1 \n\n300| 1 2 2 3 \n\n301| 2 3 1 4 \n\n302| 1 3 2 1 \n\n303| 2 3 1 2 \n\n304| 2 2 2 4 \n\n305| 3 1 1 2 \n\n306| 3 1 1 3 \n\n307| 2 3 3 1 \n\n308| 4 1 2 3 \n\n309| 1 1 1 3 \n\n310| 4 3 1 3 \n\n311| 3 1 3 2 \n\n312| 2 1 2 2 \n\n313| 4 2 2 1 \n\n314| 2 1 1 4 \n\n315| 1 1 2 1 \n\n316| 3 2 1 3 \n\n317| 1 1 3 3 \n\n318| 4 3 2 4 \n\n319| 4 1 2 1 \n\n320| 4 2 3 3 \n\n321| 3 1 1 2 \n\n322| 4 3 2 1 \n\n323| 1 1 1 2 \n\n324| 2 1 3 2 \n\n325| 2 3 2 4 \n\n326| 2 3 3 4 \n\n327| 1 3 2 3 \n\n328| 2 1 3 1 \n\n329| 3 1 1 2 \n\n330| 2 3 1 4 \n\n331| 4 1 2 4 \n\n332| 2 2 1 3 \n\n333| 1 2 2 4 \n\n334| 3 2 3 1 \n\n335| 1 3 1 1 \n\n336| 3 1 1 1 \n\n337| 4 3 2 3 \n\n338| 3 1 2 1 \n\n339| 3 1 2 3 \n\n340| 3 3 3 1 \n\n341| 4 3 3 1 \n\n342| 2 3 2 3 \n\n343| 1 2 1 4 \n\n344| 2 3 1 4 \n\n345| 4 1 1 2 \n\n346| 4 3 2 1 \n\n347| 2 2 3 1 \n\n348| 2 2 3 1 \n\n349| 2 1 3 3 \n\n350| 4 1 3 2 \n\n351| 2 3 2 3 \n\n352| 1 1 1 4 \n\n353| 2 1 1 2 \n\n354| 1 1 3 1 \n\n355| 4 1 3 3 \n\n356| 4 2 2 2 \n\n357| 3 3 2 1 \n\n358| 1 1 2 2 \n\n359| 3 1 2 2 \n\n360| 1 3 1 3 \n\n361| 3 3 3 2 \n\n362| 3 3 3 4 \n\n363| 4 3 2 3 \n\n364| 4 3 3 4 \n\n365| 2 2 1 2 \n\n366| 1 2 3 4 \n\n367| 1 2 2 2 \n\n368| 2 2 3 1 \n\n369| 1 2 1 2 \n\n370| 2 3 1 2 \n\n371| 3 1 2 2 \n\n372| 2 2 1 3 \n\n373| 2 1 3 4 \n\n374| 1 2 3 3 \n\n375| 1 2 3 2 \n\n376| 1 1 1 1 \n\n377| 3 1 1 3 \n\n378| 3 3 3 1 \n\n379| 3 3 2 3 \n\n380| 3 3 3 3 \n\n381| 4 2 2 4 \n\n382| 1 2 2 4 \n\n383| 2 3 1 4 \n\n384| 3 2 2 2 \n\n385| 4 3 1 2 \n\n386| 3 3 1 2 \n\n387| 4 2 2 1 \n\n388| 2 2 2 4 \n\n389| 4 1 1 2 \n\n390| 1 2 2 1 \n\n391| 2 1 2 1 \n\n392| 3 2 3 3 \n\n393| 1 3 1 4 \n\n394| 2 2 1 1 \n\n395| 4 2 1 4 \n\n396| 3 2 1 1 \n\n397| 2 1 1 3 \n\n398| 4 1 1 4 \n\n399| 2 3 3 1 \n\n400| 3 1 3 1 \n\n401| 3 3 1 3 \n\n402| 4 3 1 4 \n\n403| 4 2 2 4 \n\n404| 3 3 2 4 \n\n405| 2 3 3 1 \n\n406| 3 2 1 3 \n\n407| 4 1 3 1 \n\n408| 4 3 1 1 \n\n409| 4 2 3 4 \n\n410| 1 3 2 4 \n\n411| 3 3 3 2 \n\n412| 2 2 2 1 \n\n413| 1 3 3 4 \n\n414| 3 3 2 4 \n\n415| 3 1 1 2 \n\n416| 4 2 1 3 \n\n417| 3 2 2 2 \n\n418| 2 2 2 2 \n\n419| 4 3 2 3 \n\n420| 2 2 1 3 \n\n421| 3 3 1 3 \n\n422| 3 3 2 4 \n\n423| 2 2 3 3 \n\n424| 3 3 3 2 \n\n425| 1 1 3 3 \n\n426| 3 3 1 3 \n\n427| 2 3 3 2 \n\n428| 2 2 2 2 \n\n429| 1 1 2 4 \n\n430| 3 3 3 1 \n\n431| 2 3 3 1 \n\n432| 3 3 3 4 \n\n433| 2 3 1 2 \n\n434| 3 3 2 3 \n\n435| 3 2 2 3 \n\n436| 1 1 3 3 \n\n437| 4 3 2 4 \n\n438| 3 1 3 3 \n\n439| 3 2 1 4 \n\n440| 1 1 3 3 \n\n441| 3 1 1 2 \n\n442| 3 1 3 2 \n\n443| 1 1 1 2 \n\n444| 1 2 3 3 \n\n445| 2 1 2 4 \n\n446| 1 3 1 1 \n\n447| 3 1 1 1 \n\n448| 1 3 2 2 \n\n449| 4 1 1 4 \n\n450| 1 2 2 4 \n\n451| 2 3 2 4 \n\n452| 3 3 2 2 \n\n453| 3 2 3 4 \n\n454| 2 3 3 1 \n\n455| 2 1 1 1 \n\n456| 4 1 3 2 \n\n457| 1 3 2 1 \n\n458| 2 3 1 1 \n\n459| 4 3 2 1 \n\n460| 4 3 2 4 \n\n461| 4 3 3 1 \n\n462| 1 3 2 4 \n\n463| 1 3 1 2 \n\n464| 3 3 2 2 \n\n465| 4 1 2 1 \n\n466| 4 2 3 2 \n\n467| 2 2 3 4 \n\n468| 1 1 1 2 \n\n469| 3 2 2 3 \n\n470| 3 2 1 2 \n\n471| 2 2 1 2 \n\n472| 4 2 1 3 \n\n473| 3 3 2 3 \n\n474| 1 1 3 2 \n\n475| 3 2 2 1 \n\n476| 1 1 1 4 \n\n477| 4 2 1 4 \n\n478| 1 3 2 2 \n\n479| 3 1 2 1 \n\n480| 2 3 3 1 \n\n481| 1 1 2 3 \n\n482| 3 2 2 1 \n\n483| 1 1 2 1 \n\n484| 3 2 1 1 \n\n485| 3 1 2 2 \n\n486| 2 2 3 1 \n\n487| 2 3 1 3 \n\n488| 3 3 1 1 \n\n489| 1 3 2 1 \n\n490| 4 3 2 3 \n\n491| 3 3 1 1 \n\n492| 4 3 1 2 \n\n493| 2 3 3 3 \n\n494| 3 3 1 4 \n\n495| 1 3 1 1 \n\n496| 3 2 3 1 \n\n497| 2 3 3 2 \n\n498| 3 2 1 2 \n\n499| 1 2 3 1 \n\n500| 2 2 3 1 \n\n501| 3 2 3 2 \n\n502| 3 2 3 2 \n\n503| 4 1 3 3 \n\n504| 3 2 1 3 \n\n505| 2 2 1 2 \n\n506| 2 1 3 1 \n\n507| 2 2 3 1 \n\n508| 3 1 3 2 \n\n509| 2 1 1 3 \n\n510| 1 3 3 4 \n\n511| 2 2 1 1 \n\n512| 2 2 1 2 \n\n513| 1 1 3 3 \n\n514| 2 2 3 3 \n\n515| 3 2 3 1 \n\n516| 3 1 1 4 \n\n517| 2 2 1 1 \n\n518| 4 1 1 2 \n\n519| 2 2 2 1 \n\n520| 1 3 2 2 \n\n521| 1 2 3 1 \n\n522| 1 3 1 2 \n\n523| 1 2 1 4 \n\n524| 2 2 2 3 \n\n525| 1 1 2 4 \n\n526| 3 1 3 2 \n\n527| 2 1 2 2 \n\n528| 4 2 1 2 \n\n529| 1 2 1 2 \n\n530| 3 1 1 2 \n\n531| 4 1 3 1 \n\n532| 4 3 3 3 \n\n533| 4 2 1 4 \n\n534| 1 3 2 4 \n\n535| 1 3 3 4 \n\n536| 2 1 2 3 \n\n537| 1 2 1 1 \n\n538| 2 1 2 3 \n\n539| 1 1 1 4 \n\n540| 1 3 3 1 \n\n541| 3 3 1 3 \n\n542| 3 3 3 1 \n\n543| 3 2 2 3 \n\n544| 3 3 2 2 \n\n545| 2 3 2 2 \n\n546| 2 1 1 1 \n\n547| 4 1 2 2 \n\n548| 4 1 1 4 \n\n549| 2 3 3 1 \n\n550| 2 1 1 2 \n\n551| 3 3 2 1 \n\n552| 2 3 2 1 \n\n553| 2 2 2 1 \n\n554| 4 3 3 2 \n\n555| 1 2 2 2 \n\n556| 2 3 1 4 \n\n557| 2 1 3 3 \n\n558| 3 3 3 3 \n\n559| 4 1 1 3 \n\n560| 3 3 2 1 \n\n561| 1 3 2 3 \n\n562| 4 3 3 1 \n\n563| 2 3 2 2 \n\n564| 3 2 2 1 \n\n565| 4 2 2 4 \n\n566| 3 3 3 2 \n\n567| 2 1 1 2 \n\n568| 1 3 3 3 \n\n569| 2 3 1 4 \n\n570| 4 2 2 3 \n\n571| 2 2 3 3 \n\n572| 2 1 1 3 \n\n573| 3 3 1 1 \n\n574| 2 1 1 1 \n\n575| 2 2 3 1 \n\n576| 3 2 1 1 \n\n577| 2 2 2 4 \n\n578| 4 1 2 2 \n\n579| 4 2 1 4 \n\n580| 3 2 1 3 \n\n581| 1 2 1 3 \n\n582| 1 2 3 4 \n\n583| 1 3 3 2 \n\n584| 2 3 3 3 \n\n585| 2 2 1 1 \n\n586| 2 2 2 3 \n\n587| 3 2 1 3 \n\n588| 1 1 2 2 \n\n589| 3 2 2 1 \n\n590| 1 2 2 3 \n\n591| 3 2 1 4 \n\n592| 3 2 3 1 \n\n593| 1 2 2 1 \n\n594| 4 3 1 4 \n\n595| 3 3 1 1 \n\n596| 3 1 3 2 \n\n597| 3 3 2 1 \n\n598| 2 3 1 1 \n\n599| 3 1 3 4 \n\n600| 3 2 2 1 \n\n601| 1 3 3 3 \n\n602| 1 3 1 2 \n\n603| 4 2 2 2 \n\n604| 3 2 3 1 \n\n605| 1 2 2 4 \n\n606| 1 1 1 4 \n\n607| 4 2 1 3 \n\n608| 1 2 2 4 \n\n609| 2 2 2 2 \n\n610| 4 3 2 3 \n\n611| 2 1 2 4 \n\n612| 4 3 2 4 \n\n613| 1 1 2 1 \n\n614| 4 3 1 2 \n\n615| 2 1 1 3 \n\n616| 3 2 2 1 \n\n617| 1 3 3 1 \n\n618| 3 2 3 4 \n\n619| 3 1 3 2 \n\n620| 4 3 1 1 \n\n621| 4 1 3 2 \n\n622| 3 2 3 1 \n\n623| 2 3 2 2 \n\n624| 4 2 3 1 \n\n625| 2 1 2 3 \n\n626| 1 1 2 1 \n\n627| 3 3 1 4 \n\n628| 4 2 3 1 \n\n629| 2 1 1 1 \n\n630| 2 1 3 4 \n\n631| 1 3 3 3 \n\n632| 4 2 3 3 \n\n633| 1 2 3 1 \n\n634| 3 2 2 1 \n\n635| 4 1 3 4 \n\n636| 4 1 2 1 \n\n637| 1 2 1 3 \n\n638| 2 3 2 1 \n\n639| 3 2 2 4 \n\n640| 3 3 3 4 \n\n641| 2 3 2 3 \n\n642| 4 2 1 3 \n\n643| 4 2 1 3 \n\n644| 3 2 1 4 \n\n645| 4 3 3 2 \n\n646| 1 1 1 3 \n\n647| 4 3 3 4 \n\n648| 1 3 3 3 \n\n649| 4 2 2 4 \n\n650| 2 3 2 3 \n\n651| 2 3 1 1 \n\n652| 3 1 3 4 \n\n653| 3 3 1 2 \n\n654| 4 1 2 3 \n\n655| 2 2 3 1 \n\n656| 4 1 1 4 \n\n657| 3 2 1 3 \n\n658| 1 3 3 1 \n\n659| 4 3 1 3 \n\n660| 1 2 1 2 \n\n661| 3 2 1 2 \n\n662| 2 1 1 4 \n\n663| 1 1 1 3 \n\n664| 4 1 3 3 \n\n665| 1 3 2 2 \n\n666| 3 3 2 3 \n\n667| 2 2 1 4 \n\n668| 3 3 3 1 \n\n669| 2 1 1 3 \n\n670| 1 3 2 3 \n\n671| 4 1 3 3 \n\n672| 1 1 1 1 \n\n673| 2 2 2 2 \n\n674| 4 3 1 2 \n\n675| 4 1 3 1 \n\n676| 3 3 2 1 \n\n677| 2 1 1 4 \n\n678| 1 1 3 4 \n\n679| 3 3 1 2 \n\n680| 2 2 3 2 \n\n681| 3 2 3 4 \n\n682| 3 1 2 3 \n\n683| 2 2 2 1 \n\n684| 4 1 2 4 \n\n685| 4 3 3 3 \n\n686| 2 1 3 2 \n\n687| 4 3 1 2 \n\n688| 3 1 1 4 \n\n689| 2 1 2 4 \n\n690| 1 2 3 3 \n\n691| 2 3 2 3 \n\n692| 2 3 1 1 \n\n693| 1 3 1 4 \n\n694| 1 1 3 2 \n\n695| 3 1 1 1 \n\n696| 1 2 1 2 \n\n697| 4 3 2 4 \n\n698| 3 2 1 1 \n\n699| 4 1 2 4 \n\n700| 3 3 1 2 \n\n701| 2 2 1 4 \n\n702| 1 2 3 2 \n\n703| 2 2 3 2 \n\n704| 1 2 3 4 \n\n705| 2 1 2 1 \n\n706| 3 3 2 1 \n\n707| 3 3 3 4 \n\n708| 2 1 2 2 \n\n709| 2 1 2 1 \n\n710| 2 1 2 2 \n\n711| 4 3 3 3 \n\n712| 2 3 3 3 \n\n713| 3 2 1 4 \n\n714| 4 3 3 4 \n\n715| 1 3 1 1 \n\n716| 4 1 1 3 \n\n717| 4 2 1 3 \n\n718| 3 3 3 2 \n\n719| 1 1 3 4 \n\n720| 4 2 3 4 \n\n721| 1 2 1 3 \n\n722| 1 3 3 2 \n\n723| 1 2 2 1 \n\n724| 3 2 1 2 \n\n725| 1 1 2 1 \n\n726| 1 2 1 2 \n\n727| 2 2 2 2 \n\n728| 1 2 3 2 \n\n729| 1 2 2 2 \n\n730| 2 1 1 3 \n\n731| 4 3 2 1 \n\n732| 3 3 3 1 \n\n733| 2 1 1 2 \n\n734| 3 2 2 1 \n\n735| 2 2 1 3 \n\n736| 3 1 3 4 \n\n737| 2 2 3 2 \n\n738| 3 2 3 3 \n\n739| 4 1 1 1 \n\n740| 4 3 3 2 \n\n741| 4 2 1 2 \n\n742| 3 3 2 2 \n\n743| 1 1 2 1 \n\n744| 1 1 2 1 \n\n745| 2 2 3 3 \n\n746| 2 3 3 4 \n\n747| 4 1 2 2 \n\n748| 4 2 3 2 \n\n749| 1 3 2 3 \n\n750| 3 2 1 2 \n\n751| 3 2 3 2 \n\n752| 2 1 1 1 \n\n753| 1 2 1 1 \n\n754| 1 2 2 2 \n\n755| 3 1 3 4 \n\n756| 4 3 3 3 \n\n757| 3 1 2 4 \n\n758| 1 1 1 4 \n\n759| 4 3 2 2 \n\n760| 3 2 1 4 \n\n761| 2 3 1 3 \n\n762| 2 3 3 4 \n\n763| 3 1 2 2 \n\n764| 3 1 3 2 \n\n765| 4 3 1 1 \n\n766| 3 2 1 1 \n\n767| 2 2 2 4 \n\n768| 3 3 2 1 \n\n769| 4 2 1 2 \n\n770| 2 2 3 2 \n\n771| 4 1 2 1 \n\n772| 4 2 2 1 \n\n773| 4 2 1 3 \n\n774| 2 1 3 1 \n\n775| 3 1 3 1 \n\n776| 2 2 3 4 \n\n777| 4 3 2 3 \n\n778| 4 3 1 1 \n\n779| 1 1 1 3 \n\n780| 4 2 1 2 \n\n781| 2 3 2 4 \n\n782| 3 1 2 4 \n\n783| 4 2 2 2 \n\n784| 3 3 1 3 \n\n785| 2 3 3 1 \n\n786| 3 3 2 2 \n\n787| 3 3 2 3 \n\n788| 4 1 3 4 \n\n789| 2 1 1 2 \n\n790| 3 3 2 3 \n\n791| 3 1 3 2 \n\n792| 4 3 2 2 \n\n793| 3 1 3 4 \n\n794| 2 3 2 1 \n\n795| 3 1 3 1 \n\n796| 1 3 3 3 \n\n797| 1 2 3 3 \n\n798| 1 1 1 1 \n\n799| 2 1 2 1 \n\n800| 2 2 1 1 \n\n801| 2 3 3 4 \n\n802| 3 2 2 4 \n\n803| 1 1 1 3 \n\n804| 1 3 3 4 \n\n805| 2 1 3 4 \n\n806| 1 3 1 4 \n\n807| 3 1 2 4 \n\n808| 3 2 3 2 \n\n809| 1 3 2 4 \n\n810| 3 2 3 3 \n\n811| 4 2 1 4 \n\n812| 1 2 1 2 \n\n813| 1 3 2 2 \n\n814| 2 1 3 2 \n\n815| 2 2 1 4 \n\n816| 4 2 2 1 \n\n817| 2 3 2 1 \n\n818| 2 1 1 3 \n\n819| 2 2 2 4 \n\n820| 4 2 3 3 \n\n821| 1 2 2 1 \n\n822| 2 3 1 2 \n\n823| 2 3 1 2 \n\n824| 2 1 2 2 \n\n825| 2 1 2 3 \n\n826| 2 2 1 4 \n\n827| 1 2 2 2 \n\n828| 4 2 3 2 \n\n829| 1 1 3 1 \n\n830| 1 1 1 1 \n\n831| 2 3 2 2 \n\n832| 1 1 1 2 \n\n833| 3 3 3 4 \n\n834| 4 2 2 3 \n\n835| 4 3 3 2 \n\n836| 3 2 1 4 \n\n837| 3 1 2 4 \n\n838| 3 1 3 3 \n\n839| 4 3 2 4 \n\n840| 2 3 1 3 \n\n841| 1 1 2 3 \n\n842| 2 1 1 1 \n\n843| 3 2 3 2 \n\n844| 1 1 3 2 \n\n845| 2 1 3 3 \n\n846| 3 3 3 4 \n\n847| 3 1 3 3 \n\n848| 2 1 3 1 \n\n849| 3 2 3 2 \n\n850| 3 3 3 2 \n\n851| 4 3 1 3 \n\n852| 4 3 3 3 \n\n853| 2 3 1 2 \n\n854| 2 2 2 1 \n\n855| 2 2 1 2 \n\n856| 1 2 2 1 \n\n857| 1 2 2 4 \n\n858| 1 2 3 1 \n\n859| 4 1 3 4 \n\n860| 1 3 2 1 \n\n861| 2 3 2 4 \n\n862| 2 3 3 3 \n\n863| 2 1 3 2 \n\n864| 3 2 2 1 \n\n865| 4 1 3 3 \n\n866| 2 3 1 3 \n\n867| 4 2 1 3 \n\n868| 1 1 2 3 \n\n869| 1 1 2 3 \n\n870| 2 3 1 2 \n\n871| 1 3 1 4 \n\n872| 3 1 3 1 \n\n873| 3 2 3 4 \n\n874| 2 3 2 1 \n\n875| 3 1 3 4 \n\n876| 4 2 1 3 \n\n877| 4 1 3 1 \n\n878| 4 1 1 2 \n\n879| 2 2 1 2 \n\n880| 4 1 1 3 \n\n881| 2 3 2 4 \n\n882| 1 1 1 2 \n\n883| 1 1 2 2 \n\n884| 4 3 1 2 \n\n885| 3 3 1 1 \n\n886| 3 1 3 4 \n\n887| 1 3 1 2 \n\n888| 3 3 3 2 \n\n889| 1 1 2 4 \n\n890| 4 1 2 2 \n\n891| 3 2 1 1 \n\n892| 1 3 1 2 \n\n893| 2 2 1 3 \n\n894| 2 2 1 2 \n\n895| 4 2 2 3 \n\n896| 1 2 2 4 \n\n897| 2 3 1 4 \n\n898| 4 1 3 4 \n\n899| 2 2 2 2 \n\n900| 4 3 3 3 \n\n901| 3 2 3 3 \n\n902| 2 1 1 1 \n\n903| 3 3 3 3 \n\n904| 4 2 2 2 \n\n905| 2 2 2 4 \n\n906| 4 2 1 4 \n\n907| 1 3 1 2 \n\n908| 4 3 2 1 \n\n909| 2 2 1 4 \n\n910| 3 3 2 1 \n\n911| 3 3 1 2 \n\n912| 2 3 3 2 \n\n913| 4 1 2 1 \n\n914| 4 3 3 1 \n\n915| 2 2 1 3 \n\n916| 4 1 2 4 \n\n917| 3 1 2 3 \n\n918| 1 2 3 4 \n\n919| 4 3 2 1 \n\n920| 4 1 1 3 \n\n921| 3 1 3 2 \n\n922| 2 3 2 1 \n\n923| 3 1 1 4 \n\n924| 3 3 3 2 \n\n925| 2 1 1 2 \n\n926| 3 1 2 4 \n\n927| 3 3 2 3 \n\n928| 3 2 3 1 \n\n929| 3 3 1 3 \n\n930| 3 3 2 1 \n\n931| 2 1 3 2 \n\n932| 2 3 3 4 \n\n933| 4 2 1 1 \n\n934| 1 2 1 4 \n\n935| 1 1 3 3 \n\n936| 2 2 1 4 \n\n937| 3 3 1 3 \n\n938| 2 3 1 1 \n\n939| 2 3 1 4 \n\n940| 3 1 3 2 \n\n941| 2 2 1 2 \n\n942| 4 2 1 2 \n\n943| 4 3 3 2 \n\n944| 1 1 3 3 \n\n945| 2 1 3 2 \n\n946| 2 2 2 2 \n\n947| 3 2 2 2 \n\n948| 4 2 3 1 \n\n949| 3 2 2 2 \n\n950| 2 3 1 3 \n\n951| 1 2 1 3 \n\n952| 1 3 2 1 \n\n953| 2 2 3 1 \n\n954| 1 1 2 3 \n\n955| 3 3 2 2 \n\n956| 3 3 1 3 \n\n957| 2 2 3 3 \n\n958| 2 3 3 4 \n\n959| 4 1 2 4 \n\n960| 4 2 2 3 \n\n961| 2 2 2 2 \n\n962| 4 3 3 4 \n\n963| 3 2 3 1 \n\n964| 3 1 2 4 \n\n965| 1 1 1 2 \n\n966| 3 1 2 4 \n\n967| 2 3 3 3 \n\n968| 4 2 3 4 \n\n969| 3 1 2 2 \n\n970| 2 3 2 2 \n\n971| 2 3 1 2 \n\n972| 1 3 1 4 \n\n973| 3 1 1 2 \n\n974| 2 2 3 2 \n\n975| 4 3 3 3 \n\n976| 3 3 1 4 \n\n977| 1 3 1 3 \n\n978| 1 1 1 4 \n\n979| 2 2 3 1 \n\n980| 4 2 2 4 \n\n981| 3 2 2 3 \n\n982| 2 1 1 1 \n\n983| 2 1 3 3 \n\n984| 4 1 1 3 \n\n985| 3 1 3 1 \n\n986| 1 2 1 4 \n\n987| 2 1 1 4 \n\n988| 1 1 1 4 \n\n989| 1 3 3 2 \n\n990| 3 1 2 2 \n\n991| 3 3 2 4 \n\n992| 2 2 1 3 \n\n993| 1 1 3 2 \n\n994| 1 3 3 4 \n\n995| 2 3 2 2 \n\n996| 1 1 3 3 \n\n997| 2 1 3 2 \n\n998| 4 3 2 2 \n\n999| 1 3 2 1 \n\n"
    }
   ],
   "source": [
    "# Lectura del archivo data.txt\n",
    "data = open('data.txt','r')\n",
    "for i in data:\n",
    "    print(i)\n",
    "data.close()"
   ]
  },
  {
   "cell_type": "code",
   "execution_count": 6,
   "metadata": {},
   "outputs": [],
   "source": [
    "data.close()"
   ]
  },
  {
   "source": [
    "*Respuestas si*\n",
    "\n",
    "**Pre-Pound(Arbol):**\n",
    "\n",
    "carro | luz | velocidad | tiempo |\tr\n",
    ":-------:| ---------\n",
    "1 | 1 | 1 | 4 | 1\n",
    "|  | 3 |\t  |   |\t1\n",
    "2 | 1 |   |   |\n",
    "|| 3 | 2 | 1 | 1\n",
    "3 |\t\t\t\t\n",
    "4 | 1\t\t\t\n",
    "|| 2\t\t\t\n",
    "|| 3 | 1 | 3 | 1\n"
   ],
   "cell_type": "markdown",
   "metadata": {}
  },
  {
   "source": [
    "**Asociacion de clase al vector de caracteristicas**"
   ],
   "cell_type": "markdown",
   "metadata": {}
  },
  {
   "cell_type": "code",
   "execution_count": 7,
   "metadata": {},
   "outputs": [],
   "source": [
    "def modelo_clasificacion(linea):\n",
    "    if(linea[2] == '1'):\n",
    "            if(linea[3]=='1' or linea[3]=='3'):\n",
    "                if(linea[4] =='1' and linea[5]=='4'):\n",
    "                    #print('|',linea[2],linea[3],linea[4],linea[5])\n",
    "                    return True\n",
    "    elif(linea[2] == '2' and linea[3]=='3' and linea[4]=='2' and linea[5]=='1'):\n",
    "        #print('|',linea[2],linea[3],linea[4],linea[5])\n",
    "        return True\n",
    "    elif(linea[2] == '4' and linea[3]=='3' and linea[4]=='1' and linea[5]=='3'):\n",
    "        #print('|',linea[2],linea[3],linea[4],linea[5])\n",
    "        return True\n",
    "    else:\n",
    "        return False"
   ]
  },
  {
   "cell_type": "code",
   "execution_count": 8,
   "metadata": {},
   "outputs": [],
   "source": [
    " \n",
    "def arbol(ln):\n",
    "    '''\n",
    "        Metodo que devuelve un True si\n",
    "        Es la rama que acepta\n",
    "\n",
    "    '''\n",
    "    if not ln == None:\n",
    "        \n",
    "        linea=ln.split(' ') \n",
    "        if modelo_clasificacion(linea):\n",
    "            return '1'\n",
    "        else:\n",
    "            return '0'   \n",
    "    else:\n",
    "        print(\"TypeError in\" + ln)\n",
    "        return '0'"
   ]
  },
  {
   "cell_type": "code",
   "execution_count": 9,
   "metadata": {
    "tags": []
   },
   "outputs": [],
   "source": [
    "data = open('data.txt','r')\n",
    "r = open('r.txt','w')\n",
    "line=\"\"\n",
    "\n",
    "for i in data:\n",
    "    try: \n",
    "        line=arbol(i)+\"\\n\"\n",
    "        r.write(line)\n",
    "    except TypeError:\n",
    "        print(\"\")\n",
    "    except NotImplementedError:\n",
    "        print(\"Evaluador de errores\")\n",
    "\n",
    "r.close()"
   ]
  },
  {
   "source": [
    "*Respuestas en **r.txt** *"
   ],
   "cell_type": "markdown",
   "metadata": {}
  },
  {
   "source": [
    "*Visualizacion*"
   ],
   "cell_type": "markdown",
   "metadata": {}
  },
  {
   "cell_type": "code",
   "execution_count": 10,
   "metadata": {
    "tags": []
   },
   "outputs": [
    {
     "output_type": "stream",
     "name": "stdout",
     "text": "0\n\n0\n\n0\n\n0\n\n0\n\n0\n\n0\n\n0\n\n0\n\n0\n\n0\n\n0\n\n0\n\n0\n\n0\n\n0\n\n0\n\n0\n\n0\n\n0\n\n0\n\n0\n\n0\n\n0\n\n0\n\n0\n\n0\n\n0\n\n0\n\n0\n\n0\n\n0\n\n0\n\n0\n\n0\n\n0\n\n0\n\n0\n\n0\n\n0\n\n0\n\n0\n\n0\n\n0\n\n0\n\n0\n\n0\n\n0\n\n0\n\n0\n\n0\n\n0\n\n0\n\n0\n\n0\n\n0\n\n0\n\n0\n\n0\n\n0\n\n0\n\n0\n\n0\n\n0\n\n0\n\n0\n\n0\n\n0\n\n0\n\n0\n\n0\n\n0\n\n0\n\n0\n\n0\n\n0\n\n0\n\n0\n\n0\n\n0\n\n0\n\n0\n\n0\n\n0\n\n0\n\n0\n\n0\n\n0\n\n0\n\n0\n\n0\n\n0\n\n0\n\n0\n\n0\n\n0\n\n0\n\n0\n\n0\n\n0\n\n0\n\n0\n\n0\n\n0\n\n0\n\n0\n\n0\n\n0\n\n0\n\n0\n\n0\n\n0\n\n0\n\n0\n\n0\n\n0\n\n0\n\n0\n\n0\n\n0\n\n0\n\n0\n\n0\n\n0\n\n0\n\n0\n\n0\n\n0\n\n0\n\n0\n\n0\n\n0\n\n0\n\n0\n\n0\n\n0\n\n0\n\n0\n\n0\n\n0\n\n0\n\n0\n\n0\n\n0\n\n0\n\n0\n\n0\n\n0\n\n0\n\n0\n\n0\n\n0\n\n0\n\n0\n\n0\n\n0\n\n0\n\n0\n\n0\n\n0\n\n0\n\n0\n\n0\n\n0\n\n0\n\n0\n\n0\n\n0\n\n0\n\n0\n\n0\n\n0\n\n0\n\n0\n\n0\n\n0\n\n0\n\n0\n\n0\n\n0\n\n0\n\n0\n\n0\n\n0\n\n0\n\n0\n\n0\n\n0\n\n0\n\n0\n\n0\n\n0\n\n0\n\n0\n\n0\n\n0\n\n0\n\n0\n\n0\n\n0\n\n0\n\n0\n\n0\n\n0\n\n0\n\n0\n\n0\n\n0\n\n0\n\n0\n\n0\n\n0\n\n0\n\n0\n\n0\n\n0\n\n0\n\n0\n\n0\n\n0\n\n0\n\n0\n\n0\n\n0\n\n0\n\n0\n\n0\n\n0\n\n0\n\n0\n\n0\n\n0\n\n0\n\n0\n\n0\n\n0\n\n0\n\n0\n\n0\n\n0\n\n0\n\n0\n\n0\n\n0\n\n0\n\n0\n\n0\n\n0\n\n0\n\n0\n\n0\n\n0\n\n0\n\n0\n\n0\n\n0\n\n0\n\n0\n\n0\n\n0\n\n0\n\n0\n\n0\n\n0\n\n0\n\n0\n\n0\n\n0\n\n0\n\n0\n\n0\n\n0\n\n0\n\n0\n\n0\n\n0\n\n0\n\n0\n\n0\n\n0\n\n0\n\n0\n\n0\n\n0\n\n0\n\n0\n\n0\n\n0\n\n0\n\n0\n\n0\n\n0\n\n0\n\n0\n\n0\n\n0\n\n0\n\n0\n\n0\n\n0\n\n0\n\n0\n\n0\n\n0\n\n0\n\n0\n\n0\n\n0\n\n0\n\n0\n\n0\n\n0\n\n0\n\n0\n\n0\n\n0\n\n0\n\n0\n\n0\n\n0\n\n0\n\n0\n\n0\n\n0\n\n0\n\n0\n\n0\n\n0\n\n0\n\n0\n\n0\n\n0\n\n0\n\n0\n\n0\n\n0\n\n0\n\n0\n\n0\n\n0\n\n0\n\n0\n\n0\n\n0\n\n0\n\n0\n\n0\n\n0\n\n0\n\n0\n\n0\n\n0\n\n0\n\n0\n\n0\n\n0\n\n0\n\n0\n\n0\n\n0\n\n0\n\n0\n\n0\n\n0\n\n0\n\n0\n\n0\n\n0\n\n0\n\n0\n\n0\n\n0\n\n0\n\n0\n\n0\n\n0\n\n0\n\n0\n\n0\n\n0\n\n0\n\n0\n\n0\n\n0\n\n0\n\n0\n\n0\n\n0\n\n0\n\n0\n\n0\n\n0\n\n0\n\n0\n\n0\n\n0\n\n0\n\n0\n\n0\n\n0\n\n0\n\n0\n\n0\n\n0\n\n0\n\n0\n\n0\n\n0\n\n0\n\n0\n\n0\n\n0\n\n0\n\n0\n\n0\n\n0\n\n0\n\n0\n\n0\n\n0\n\n0\n\n0\n\n0\n\n0\n\n0\n\n0\n\n0\n\n0\n\n0\n\n0\n\n0\n\n0\n\n0\n\n0\n\n0\n\n0\n\n0\n\n0\n\n0\n\n0\n\n0\n\n0\n\n0\n\n0\n\n0\n\n0\n\n0\n\n0\n\n0\n\n0\n\n0\n\n0\n\n0\n\n0\n\n0\n\n0\n\n0\n\n0\n\n0\n\n0\n\n0\n\n0\n\n0\n\n0\n\n0\n\n0\n\n0\n\n0\n\n0\n\n0\n\n0\n\n0\n\n0\n\n0\n\n0\n\n0\n\n0\n\n0\n\n0\n\n0\n\n0\n\n0\n\n0\n\n0\n\n0\n\n0\n\n0\n\n0\n\n0\n\n0\n\n0\n\n0\n\n0\n\n0\n\n0\n\n0\n\n0\n\n0\n\n0\n\n0\n\n0\n\n0\n\n0\n\n0\n\n0\n\n0\n\n0\n\n0\n\n0\n\n0\n\n0\n\n0\n\n0\n\n0\n\n0\n\n0\n\n0\n\n0\n\n0\n\n0\n\n0\n\n0\n\n0\n\n0\n\n0\n\n0\n\n0\n\n0\n\n0\n\n0\n\n0\n\n0\n\n0\n\n0\n\n0\n\n0\n\n0\n\n0\n\n0\n\n0\n\n0\n\n0\n\n0\n\n0\n\n0\n\n0\n\n0\n\n0\n\n0\n\n0\n\n0\n\n0\n\n0\n\n0\n\n0\n\n0\n\n0\n\n0\n\n0\n\n0\n\n0\n\n0\n\n0\n\n0\n\n0\n\n0\n\n0\n\n0\n\n0\n\n0\n\n0\n\n0\n\n0\n\n0\n\n0\n\n0\n\n0\n\n0\n\n0\n\n0\n\n0\n\n0\n\n0\n\n0\n\n0\n\n0\n\n0\n\n0\n\n0\n\n0\n\n0\n\n0\n\n0\n\n0\n\n0\n\n0\n\n0\n\n0\n\n0\n\n0\n\n0\n\n0\n\n0\n\n0\n\n0\n\n0\n\n0\n\n0\n\n0\n\n0\n\n0\n\n0\n\n0\n\n0\n\n0\n\n0\n\n0\n\n0\n\n0\n\n0\n\n0\n\n0\n\n0\n\n0\n\n0\n\n0\n\n0\n\n0\n\n0\n\n0\n\n0\n\n0\n\n0\n\n0\n\n0\n\n0\n\n0\n\n0\n\n0\n\n0\n\n0\n\n0\n\n0\n\n0\n\n0\n\n0\n\n0\n\n0\n\n0\n\n0\n\n0\n\n0\n\n0\n\n0\n\n0\n\n0\n\n0\n\n0\n\n0\n\n0\n\n0\n\n0\n\n0\n\n0\n\n0\n\n0\n\n0\n\n0\n\n0\n\n0\n\n0\n\n0\n\n0\n\n0\n\n0\n\n0\n\n0\n\n0\n\n0\n\n0\n\n0\n\n0\n\n0\n\n0\n\n0\n\n0\n\n0\n\n0\n\n0\n\n0\n\n0\n\n0\n\n0\n\n0\n\n0\n\n0\n\n0\n\n0\n\n0\n\n0\n\n0\n\n0\n\n0\n\n0\n\n0\n\n0\n\n0\n\n0\n\n0\n\n0\n\n0\n\n0\n\n0\n\n0\n\n0\n\n0\n\n0\n\n0\n\n0\n\n0\n\n0\n\n0\n\n0\n\n0\n\n0\n\n0\n\n0\n\n0\n\n0\n\n0\n\n0\n\n0\n\n0\n\n0\n\n0\n\n0\n\n0\n\n0\n\n0\n\n0\n\n0\n\n0\n\n0\n\n0\n\n0\n\n0\n\n0\n\n0\n\n0\n\n0\n\n0\n\n0\n\n0\n\n0\n\n0\n\n0\n\n0\n\n0\n\n0\n\n0\n\n0\n\n0\n\n0\n\n0\n\n0\n\n0\n\n0\n\n0\n\n0\n\n0\n\n0\n\n0\n\n0\n\n0\n\n0\n\n0\n\n0\n\n0\n\n0\n\n0\n\n0\n\n0\n\n0\n\n0\n\n0\n\n0\n\n0\n\n0\n\n0\n\n0\n\n0\n\n0\n\n0\n\n0\n\n0\n\n0\n\n0\n\n0\n\n0\n\n0\n\n0\n\n0\n\n0\n\n0\n\n0\n\n0\n\n0\n\n0\n\n0\n\n0\n\n0\n\n0\n\n0\n\n0\n\n0\n\n0\n\n0\n\n0\n\n0\n\n0\n\n0\n\n0\n\n0\n\n0\n\n0\n\n0\n\n0\n\n0\n\n0\n\n0\n\n0\n\n0\n\n0\n\n0\n\n0\n\n0\n\n0\n\n0\n\n0\n\n0\n\n0\n\n0\n\n0\n\n0\n\n0\n\n0\n\n0\n\n0\n\n0\n\n0\n\n0\n\n0\n\n0\n\n0\n\n0\n\n0\n\n0\n\n0\n\n0\n\n0\n\n0\n\n0\n\n0\n\n0\n\n0\n\n0\n\n0\n\n0\n\n0\n\n0\n\n0\n\n0\n\n0\n\n0\n\n0\n\n0\n\n0\n\n0\n\n0\n\n0\n\n0\n\n0\n\n0\n\n0\n\n0\n\n0\n\n0\n\n0\n\n0\n\n0\n\n0\n\n0\n\n0\n\n0\n\n0\n\n0\n\n0\n\n0\n\n0\n\n0\n\n0\n\n0\n\n0\n\n0\n\n0\n\n0\n\n0\n\n0\n\n0\n\n0\n\n0\n\n0\n\n0\n\n0\n\n0\n\n0\n\n0\n\n0\n\n0\n\n0\n\n0\n\n0\n\n0\n\n0\n\n0\n\n0\n\n0\n\n0\n\n0\n\n0\n\n0\n\n0\n\n0\n\n0\n\n0\n\n0\n\n0\n\n0\n\n0\n\n0\n\n0\n\n0\n\n0\n\n0\n\n0\n\n0\n\n0\n\n0\n\n0\n\n0\n\n0\n\n0\n\n0\n\n0\n\n0\n\n0\n\n0\n\n0\n\n0\n\n0\n\n0\n\n0\n\n0\n\n0\n\n0\n\n0\n\n0\n\n0\n\n0\n\n0\n\n0\n\n0\n\n0\n\n0\n\n0\n\n0\n\n0\n\n0\n\n0\n\n0\n\n0\n\n0\n\n0\n\n0\n\n0\n\n0\n\n0\n\n0\n\n0\n\n0\n\n0\n\n0\n\n0\n\n0\n\n0\n\n0\n\n0\n\n0\n\n0\n\n"
    }
   ],
   "source": [
    "# Lectura del archivo r.txt\n",
    "r = open('r.txt','r')\n",
    "for i in r:\n",
    "    print(i)\n",
    "r.close()"
   ]
  },
  {
   "source": [
    "*Vector problema* > 80%\n",
    "\n",
    "Medidas de similitud\n",
    "\n",
    "Manhatan - sumatoria - comparar con vector \n",
    "\n",
    "\n",
    "Euler \n",
    "\n"
   ],
   "cell_type": "markdown",
   "metadata": {}
  }
 ]
}