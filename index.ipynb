{
 "metadata": {
  "language_info": {
   "codemirror_mode": {
    "name": "ipython",
    "version": 3
   },
   "file_extension": ".py",
   "mimetype": "text/x-python",
   "name": "python",
   "nbconvert_exporter": "python",
   "pygments_lexer": "ipython3",
   "version": "3.8.5-final"
  },
  "orig_nbformat": 2,
  "kernelspec": {
   "name": "python_defaultSpec_1600743005053",
   "display_name": "Python 3.8.5 32-bit"
  }
 },
 "nbformat": 4,
 "nbformat_minor": 2,
 "cells": [
  {
   "cell_type": "code",
   "execution_count": 2,
   "metadata": {},
   "outputs": [],
   "source": [
    "import random"
   ]
  },
  {
   "source": [
    "1.1. Panorama Histórico \n",
    "\n",
    "    Antigua Grecia Aristoteles 300 A.C Silogismo\n",
    "    Ctesibio 258 A.C, Clebsidra\n",
    "    isodoro de sevilla 556, Bases de Datos\n",
    "    Al-juarismi 700, Algoritmo\n",
    "    Ramon Lull 1282, Ars Magna, de lo divino a lo real\n",
    "    Boole y morgan logica booleana\n",
    "    \n",
    "\n",
    "\n",
    "1.1.2. Conceptos y definiciones \n",
    "\n",
    "1.1.3. Razonamiento y Lógica \n",
    "\n",
    "1.1.4. Ejemplo de Aplicaciones\n"
   ],
   "cell_type": "markdown",
   "metadata": {}
  },
  {
   "source": [
    "*Tarea 1:*\n",
    "Desde que el hombre decidio asentarse en un lugar, le dio mas tiempo para pensar, y al pensar mas, crecio la necesidad de conocerse a si mismo y los fenomenos de su entorno, la agricultura conecto, desde ahi la autoconciencia se ha ido desarrollando, las ideas tan variadas de extender los procesos cognocitivos a maquinas creadas por la mano humana y dotarlos de entendimiento, ha llevado a idealizar la labor de una maquina pensante con acciones y conocimiento almacenado desde un inicio, una dualidad entre los procesos automaticos y los procesos programados a traves de la repeticion, lo que Decartes defendia como libre albedrio, ahora a nivel de creación.\n",
    "\n",
    "Ahora podemos dar un ejemplo de implementacion  de un sistema dotado de cierta inteligencia, en materia de experiencia de usuario, el ejemplo de Netflix sería, su selección de portada, los datos que obtiene a partir de  preferencias y comportamientos, los entiede para darle un sentido y elegir una portada adecuada.\n",
    "\n",
    "\n"
   ],
   "cell_type": "markdown",
   "metadata": {}
  },
  {
   "cell_type": "code",
   "execution_count": 3,
   "metadata": {},
   "outputs": [],
   "source": [
    "#Tarea 2"
   ]
  },
  {
   "cell_type": "code",
   "execution_count": 4,
   "metadata": {},
   "outputs": [],
   "source": [
    "#Tarea 3"
   ]
  },
  {
   "cell_type": "markdown",
   "metadata": {},
   "source": [
    "*Generador DE NUMEROS ALEATORIOS para DATA*\n",
    "\n",
    "**Carros** { 1:ninguno, 2:poco, 3:algunos, 4:muchos }\n",
    "\n",
    "**Luz** { 1:verde, 2:ambar, 3:roja }\n",
    "\n",
    "**Velocidad** { 1:lenta, 2:media, 3:rapida }\n",
    "\n",
    "**Tiempo** { 1:mañana, 2:mediodia, 3:tarde, 4:noche }\n",
    "\n"
   ]
  },
  {
   "cell_type": "code",
   "execution_count": 5,
   "metadata": {
    "tags": []
   },
   "outputs": [],
   "source": [
    "\n",
    "data = open('data.txt','w')\n",
    "ln= []\n",
    "for i in range(1,1000):\n",
    "    ln=str(i)+\"| \"+str(random.randint(1,4))+\" \"+str(random.randint(1,3))+\" \"+str(random.randint(1,3))+\" \"+str(random.randint(1,4))+\" \\n\"\n",
    "    buffer=str(ln)\n",
    "    data.write(buffer)\n",
    "data.close()"
   ]
  },
  {
   "source": [
    "*Vector de caracteristicas DATA:{**carros:[], luz[], velocidad[], tiempo[]** } *\n",
    "\n",
    "data.txt"
   ],
   "cell_type": "markdown",
   "metadata": {}
  },
  {
   "cell_type": "code",
   "execution_count": 6,
   "metadata": {
    "tags": []
   },
   "outputs": [
    {
     "output_type": "stream",
     "name": "stdout",
     "text": "1| 3 1 2 4 \n\n2| 3 1 1 1 \n\n3| 4 3 3 1 \n\n4| 4 1 3 2 \n\n5| 1 2 2 3 \n\n6| 3 3 1 1 \n\n7| 2 3 2 3 \n\n8| 4 1 3 3 \n\n9| 1 2 3 1 \n\n10| 4 1 2 2 \n\n11| 2 3 1 2 \n\n12| 3 3 3 1 \n\n13| 3 1 2 2 \n\n14| 3 1 3 1 \n\n15| 4 1 3 4 \n\n16| 4 1 3 4 \n\n17| 3 1 2 1 \n\n18| 3 1 3 3 \n\n19| 3 2 1 2 \n\n20| 3 2 3 2 \n\n21| 3 1 1 1 \n\n22| 1 3 2 3 \n\n23| 1 1 2 2 \n\n24| 1 3 3 4 \n\n25| 3 1 1 3 \n\n26| 2 2 1 2 \n\n27| 2 1 1 4 \n\n28| 4 1 3 3 \n\n29| 4 1 2 3 \n\n30| 2 1 3 3 \n\n31| 1 3 3 2 \n\n32| 1 3 3 1 \n\n33| 3 1 1 3 \n\n34| 1 2 3 4 \n\n35| 1 3 1 2 \n\n36| 4 1 1 2 \n\n37| 4 1 2 3 \n\n38| 2 1 1 4 \n\n39| 1 2 1 2 \n\n40| 1 2 3 3 \n\n41| 4 2 1 4 \n\n42| 3 2 2 1 \n\n43| 1 2 2 4 \n\n44| 2 1 2 2 \n\n45| 1 3 3 4 \n\n46| 2 2 3 4 \n\n47| 4 2 2 2 \n\n48| 4 2 3 1 \n\n49| 3 2 2 2 \n\n50| 2 2 1 4 \n\n51| 2 3 3 3 \n\n52| 3 3 2 1 \n\n53| 4 1 3 1 \n\n54| 4 3 1 4 \n\n55| 2 1 3 1 \n\n56| 3 2 2 4 \n\n57| 3 1 1 4 \n\n58| 4 3 2 3 \n\n59| 1 2 3 4 \n\n60| 1 2 3 3 \n\n61| 3 3 3 4 \n\n62| 4 1 3 3 \n\n63| 1 2 1 2 \n\n64| 1 1 1 1 \n\n65| 3 2 3 4 \n\n66| 1 1 2 3 \n\n67| 1 3 2 2 \n\n68| 3 2 3 3 \n\n69| 4 1 3 4 \n\n70| 1 3 3 3 \n\n71| 2 3 1 3 \n\n72| 2 3 3 2 \n\n73| 3 2 3 2 \n\n74| 3 1 2 3 \n\n75| 2 2 1 2 \n\n76| 1 3 1 4 \n\n77| 2 3 2 4 \n\n78| 2 3 2 4 \n\n79| 1 1 3 4 \n\n80| 4 3 2 2 \n\n81| 1 3 1 4 \n\n82| 4 3 1 3 \n\n83| 4 1 1 3 \n\n84| 3 2 3 4 \n\n85| 1 2 3 4 \n\n86| 1 3 2 1 \n\n87| 1 1 2 4 \n\n88| 1 2 3 4 \n\n89| 1 1 1 3 \n\n90| 3 2 1 3 \n\n91| 1 2 3 2 \n\n92| 3 1 3 4 \n\n93| 3 2 2 4 \n\n94| 3 2 1 2 \n\n95| 1 2 2 4 \n\n96| 4 3 3 4 \n\n97| 2 1 2 4 \n\n98| 2 3 1 1 \n\n99| 3 3 1 2 \n\n100| 1 3 2 4 \n\n101| 1 2 1 4 \n\n102| 3 3 2 3 \n\n103| 2 3 2 4 \n\n104| 1 1 1 3 \n\n105| 4 2 1 1 \n\n106| 2 1 1 3 \n\n107| 1 2 3 2 \n\n108| 2 2 1 4 \n\n109| 2 2 1 3 \n\n110| 2 2 2 3 \n\n111| 1 2 3 4 \n\n112| 1 1 3 2 \n\n113| 4 3 2 2 \n\n114| 1 2 1 2 \n\n115| 2 3 1 1 \n\n116| 2 1 2 4 \n\n117| 2 1 1 1 \n\n118| 3 3 3 2 \n\n119| 3 1 1 3 \n\n120| 3 2 2 2 \n\n121| 4 2 2 1 \n\n122| 3 2 2 2 \n\n123| 3 2 1 1 \n\n124| 3 3 3 1 \n\n125| 3 3 3 3 \n\n126| 2 3 3 3 \n\n127| 3 1 1 3 \n\n128| 1 1 3 2 \n\n129| 3 1 1 2 \n\n130| 1 2 2 1 \n\n131| 3 1 2 1 \n\n132| 2 2 1 3 \n\n133| 3 3 2 4 \n\n134| 4 2 1 4 \n\n135| 2 1 3 1 \n\n136| 1 2 3 2 \n\n137| 1 1 1 3 \n\n138| 1 2 3 3 \n\n139| 3 3 1 2 \n\n140| 1 3 1 3 \n\n141| 3 2 3 4 \n\n142| 2 3 3 1 \n\n143| 2 2 3 2 \n\n144| 3 3 3 4 \n\n145| 1 2 3 1 \n\n146| 3 2 2 1 \n\n147| 2 3 1 4 \n\n148| 2 1 3 4 \n\n149| 4 1 1 2 \n\n150| 4 1 1 2 \n\n151| 2 1 3 1 \n\n152| 1 3 2 1 \n\n153| 3 1 1 1 \n\n154| 4 1 3 2 \n\n155| 2 1 1 3 \n\n156| 4 3 3 1 \n\n157| 2 1 3 3 \n\n158| 3 2 2 2 \n\n159| 4 2 1 2 \n\n160| 3 1 2 3 \n\n161| 3 3 2 1 \n\n162| 2 2 2 4 \n\n163| 3 1 2 1 \n\n164| 2 1 2 1 \n\n165| 4 3 3 4 \n\n166| 1 1 1 2 \n\n167| 4 3 2 3 \n\n168| 3 2 1 2 \n\n169| 2 1 1 4 \n\n170| 1 1 3 1 \n\n171| 2 3 2 1 \n\n172| 3 2 1 1 \n\n173| 4 3 3 2 \n\n174| 1 1 3 4 \n\n175| 3 3 2 2 \n\n176| 3 3 3 1 \n\n177| 2 1 2 2 \n\n178| 3 3 3 1 \n\n179| 2 1 1 1 \n\n180| 4 2 2 4 \n\n181| 4 2 2 2 \n\n182| 3 1 2 4 \n\n183| 4 2 2 4 \n\n184| 3 1 2 3 \n\n185| 1 1 1 4 \n\n186| 3 3 2 3 \n\n187| 1 2 2 2 \n\n188| 4 1 3 4 \n\n189| 2 1 1 1 \n\n190| 2 1 2 1 \n\n191| 1 1 3 4 \n\n192| 3 2 3 3 \n\n193| 2 1 1 3 \n\n194| 4 1 2 1 \n\n195| 4 1 2 1 \n\n196| 4 3 1 4 \n\n197| 4 2 3 2 \n\n198| 2 1 1 2 \n\n199| 2 2 2 2 \n\n200| 4 3 3 3 \n\n201| 3 1 3 4 \n\n202| 3 3 3 1 \n\n203| 1 1 2 4 \n\n204| 4 1 2 3 \n\n205| 2 2 1 3 \n\n206| 3 3 1 1 \n\n207| 2 2 1 1 \n\n208| 4 2 1 1 \n\n209| 4 2 3 3 \n\n210| 4 2 1 1 \n\n211| 1 1 2 1 \n\n212| 1 1 3 4 \n\n213| 2 2 1 4 \n\n214| 2 3 3 3 \n\n215| 4 3 2 3 \n\n216| 2 2 2 2 \n\n217| 3 3 2 3 \n\n218| 3 2 2 3 \n\n219| 2 2 1 3 \n\n220| 4 2 2 1 \n\n221| 1 3 3 2 \n\n222| 3 1 1 1 \n\n223| 4 1 2 1 \n\n224| 1 1 1 1 \n\n225| 4 1 2 3 \n\n226| 1 1 2 4 \n\n227| 2 3 3 3 \n\n228| 4 2 2 4 \n\n229| 1 3 2 3 \n\n230| 4 1 3 2 \n\n231| 2 1 2 1 \n\n232| 1 2 3 4 \n\n233| 1 2 1 2 \n\n234| 3 3 3 4 \n\n235| 2 1 2 2 \n\n236| 4 3 2 3 \n\n237| 2 1 1 3 \n\n238| 1 1 1 2 \n\n239| 1 1 3 2 \n\n240| 2 2 2 4 \n\n241| 4 1 3 4 \n\n242| 2 3 1 1 \n\n243| 1 1 2 3 \n\n244| 3 3 3 1 \n\n245| 4 3 3 1 \n\n246| 1 3 3 3 \n\n247| 4 2 1 3 \n\n248| 3 3 2 4 \n\n249| 2 2 2 4 \n\n250| 2 2 1 2 \n\n251| 3 2 3 1 \n\n252| 2 1 3 2 \n\n253| 1 1 1 4 \n\n254| 2 1 2 1 \n\n255| 3 2 1 2 \n\n256| 3 1 2 4 \n\n257| 3 2 1 1 \n\n258| 4 1 2 2 \n\n259| 3 2 2 4 \n\n260| 1 1 1 2 \n\n261| 1 3 1 2 \n\n262| 1 2 1 3 \n\n263| 4 2 2 1 \n\n264| 3 3 3 4 \n\n265| 4 2 3 4 \n\n266| 1 3 2 3 \n\n267| 2 2 1 1 \n\n268| 2 1 3 1 \n\n269| 3 2 2 4 \n\n270| 1 3 1 2 \n\n271| 4 2 3 4 \n\n272| 3 2 2 1 \n\n273| 1 3 2 3 \n\n274| 1 3 3 1 \n\n275| 4 2 1 3 \n\n276| 1 3 2 4 \n\n277| 2 3 2 1 \n\n278| 1 1 3 1 \n\n279| 2 3 2 3 \n\n280| 4 1 3 2 \n\n281| 3 1 2 3 \n\n282| 1 1 1 2 \n\n283| 2 3 3 3 \n\n284| 1 2 2 1 \n\n285| 2 1 3 1 \n\n286| 2 1 3 1 \n\n287| 3 1 3 2 \n\n288| 1 2 2 2 \n\n289| 1 3 2 4 \n\n290| 1 3 3 4 \n\n291| 3 3 3 3 \n\n292| 2 1 1 4 \n\n293| 1 3 2 1 \n\n294| 2 2 2 1 \n\n295| 3 1 2 3 \n\n296| 1 3 1 3 \n\n297| 1 2 3 4 \n\n298| 1 1 2 1 \n\n299| 3 2 3 2 \n\n300| 1 1 2 4 \n\n301| 2 2 2 4 \n\n302| 4 2 2 3 \n\n303| 3 1 2 2 \n\n304| 1 3 2 2 \n\n305| 2 3 3 4 \n\n306| 2 3 2 3 \n\n307| 1 2 2 3 \n\n308| 3 3 3 1 \n\n309| 4 2 1 1 \n\n310| 1 1 1 1 \n\n311| 3 3 1 2 \n\n312| 3 1 1 2 \n\n313| 2 3 2 3 \n\n314| 3 1 3 2 \n\n315| 3 2 1 1 \n\n316| 1 3 3 2 \n\n317| 2 1 3 1 \n\n318| 4 2 2 3 \n\n319| 4 3 1 2 \n\n320| 2 3 1 2 \n\n321| 1 3 3 2 \n\n322| 1 1 1 4 \n\n323| 2 1 3 2 \n\n324| 3 1 3 4 \n\n325| 1 3 2 2 \n\n326| 4 1 3 1 \n\n327| 2 2 3 4 \n\n328| 3 1 1 3 \n\n329| 3 2 3 3 \n\n330| 3 2 3 4 \n\n331| 3 3 1 1 \n\n332| 3 3 1 4 \n\n333| 4 3 1 4 \n\n334| 1 1 3 1 \n\n335| 3 1 1 2 \n\n336| 4 1 2 4 \n\n337| 2 3 3 4 \n\n338| 4 1 3 2 \n\n339| 1 2 2 2 \n\n340| 1 2 3 1 \n\n341| 4 2 3 2 \n\n342| 4 3 3 4 \n\n343| 3 2 3 4 \n\n344| 3 2 2 1 \n\n345| 3 2 1 2 \n\n346| 4 1 2 2 \n\n347| 3 1 3 4 \n\n348| 3 3 2 3 \n\n349| 3 3 2 2 \n\n350| 1 1 2 2 \n\n351| 1 2 1 2 \n\n352| 4 3 1 1 \n\n353| 3 3 1 1 \n\n354| 4 3 2 4 \n\n355| 3 2 3 1 \n\n356| 4 3 3 4 \n\n357| 1 1 3 3 \n\n358| 2 3 2 2 \n\n359| 1 3 2 4 \n\n360| 2 2 3 3 \n\n361| 3 2 1 2 \n\n362| 3 3 3 2 \n\n363| 3 3 3 2 \n\n364| 3 3 1 3 \n\n365| 4 2 1 2 \n\n366| 4 1 1 3 \n\n367| 4 1 1 1 \n\n368| 1 3 1 1 \n\n369| 4 2 3 3 \n\n370| 2 3 3 3 \n\n371| 4 2 2 3 \n\n372| 1 2 1 1 \n\n373| 1 2 2 2 \n\n374| 2 1 1 2 \n\n375| 1 3 3 4 \n\n376| 2 2 1 2 \n\n377| 2 3 3 2 \n\n378| 3 3 3 2 \n\n379| 1 2 1 2 \n\n380| 3 1 1 4 \n\n381| 1 3 3 4 \n\n382| 3 2 1 1 \n\n383| 2 3 3 3 \n\n384| 3 1 2 1 \n\n385| 1 3 1 3 \n\n386| 2 2 1 3 \n\n387| 3 2 2 1 \n\n388| 1 3 3 2 \n\n389| 4 1 1 1 \n\n390| 3 1 1 4 \n\n391| 3 1 3 3 \n\n392| 2 2 1 3 \n\n393| 2 3 3 4 \n\n394| 2 2 1 2 \n\n395| 1 1 1 3 \n\n396| 1 3 3 3 \n\n397| 3 3 3 2 \n\n398| 4 1 2 4 \n\n399| 2 1 2 4 \n\n400| 3 3 2 2 \n\n401| 4 3 1 4 \n\n402| 4 2 2 4 \n\n403| 2 2 3 4 \n\n404| 2 1 3 1 \n\n405| 4 1 1 2 \n\n406| 2 1 1 4 \n\n407| 2 1 1 4 \n\n408| 3 3 2 3 \n\n409| 1 1 1 3 \n\n410| 4 2 1 1 \n\n411| 4 3 3 2 \n\n412| 4 1 3 4 \n\n413| 3 3 2 3 \n\n414| 4 2 1 2 \n\n415| 2 3 1 2 \n\n416| 1 1 3 4 \n\n417| 2 1 2 3 \n\n418| 1 1 2 1 \n\n419| 4 2 3 2 \n\n420| 1 2 1 2 \n\n421| 2 2 2 4 \n\n422| 2 3 1 3 \n\n423| 4 1 2 3 \n\n424| 1 1 3 1 \n\n425| 2 3 2 4 \n\n426| 4 3 1 2 \n\n427| 2 3 2 2 \n\n428| 4 2 1 4 \n\n429| 2 3 2 2 \n\n430| 3 1 2 3 \n\n431| 2 1 2 3 \n\n432| 2 2 2 1 \n\n433| 1 3 2 4 \n\n434| 2 1 1 2 \n\n435| 4 2 3 4 \n\n436| 4 2 3 3 \n\n437| 2 1 2 3 \n\n438| 1 1 2 4 \n\n439| 3 3 3 2 \n\n440| 4 1 3 1 \n\n441| 4 3 2 4 \n\n442| 2 1 1 2 \n\n443| 1 1 2 4 \n\n444| 2 3 3 2 \n\n445| 1 3 2 2 \n\n446| 3 1 3 2 \n\n447| 2 3 3 1 \n\n448| 1 2 2 2 \n\n449| 2 3 2 3 \n\n450| 3 2 1 4 \n\n451| 2 2 1 2 \n\n452| 1 3 1 2 \n\n453| 4 3 3 3 \n\n454| 3 1 2 2 \n\n455| 2 1 3 4 \n\n456| 1 1 2 3 \n\n457| 2 3 2 4 \n\n458| 2 1 2 3 \n\n459| 2 3 1 3 \n\n460| 3 3 3 3 \n\n461| 3 1 3 4 \n\n462| 2 2 3 4 \n\n463| 2 3 3 2 \n\n464| 1 1 3 4 \n\n465| 3 3 3 4 \n\n466| 4 2 2 1 \n\n467| 2 3 1 2 \n\n468| 3 2 2 1 \n\n469| 2 1 3 4 \n\n470| 4 3 3 1 \n\n471| 4 3 1 4 \n\n472| 1 2 3 3 \n\n473| 4 2 2 3 \n\n474| 1 3 1 1 \n\n475| 3 3 1 4 \n\n476| 4 3 2 4 \n\n477| 3 2 1 4 \n\n478| 1 3 2 2 \n\n479| 1 1 3 2 \n\n480| 4 1 3 2 \n\n481| 1 3 1 3 \n\n482| 3 2 3 3 \n\n483| 1 3 2 3 \n\n484| 3 1 2 4 \n\n485| 4 1 3 4 \n\n486| 1 2 1 4 \n\n487| 4 1 3 3 \n\n488| 1 1 2 3 \n\n489| 1 2 3 2 \n\n490| 4 2 2 4 \n\n491| 3 3 1 3 \n\n492| 2 1 1 3 \n\n493| 3 3 1 1 \n\n494| 3 3 3 3 \n\n495| 2 3 1 1 \n\n496| 3 3 2 1 \n\n497| 1 3 2 3 \n\n498| 3 3 1 2 \n\n499| 4 1 3 2 \n\n500| 2 1 3 1 \n\n501| 2 1 2 1 \n\n502| 2 3 3 1 \n\n503| 4 1 1 1 \n\n504| 3 3 2 2 \n\n505| 1 3 2 4 \n\n506| 1 3 1 4 \n\n507| 1 1 2 2 \n\n508| 3 2 1 2 \n\n509| 4 3 2 3 \n\n510| 2 2 2 1 \n\n511| 2 1 3 1 \n\n512| 3 3 3 3 \n\n513| 1 1 3 1 \n\n514| 1 1 1 3 \n\n515| 4 2 1 4 \n\n516| 3 2 3 3 \n\n517| 4 2 1 2 \n\n518| 3 2 1 3 \n\n519| 2 1 1 2 \n\n520| 1 2 1 2 \n\n521| 2 3 1 4 \n\n522| 2 1 3 3 \n\n523| 1 2 2 2 \n\n524| 1 1 1 4 \n\n525| 1 2 2 3 \n\n526| 4 3 2 3 \n\n527| 3 1 2 2 \n\n528| 4 3 3 1 \n\n529| 2 2 3 1 \n\n530| 3 3 3 1 \n\n531| 3 2 3 2 \n\n532| 3 1 2 4 \n\n533| 4 1 3 4 \n\n534| 4 1 3 2 \n\n535| 3 2 3 1 \n\n536| 1 3 1 2 \n\n537| 3 3 1 1 \n\n538| 3 2 1 1 \n\n539| 4 1 2 4 \n\n540| 1 2 3 1 \n\n541| 2 2 1 2 \n\n542| 4 2 1 1 \n\n543| 2 2 1 4 \n\n544| 1 1 3 3 \n\n545| 2 3 2 2 \n\n546| 1 1 3 2 \n\n547| 4 1 1 4 \n\n548| 3 1 2 4 \n\n549| 2 1 2 4 \n\n550| 4 3 1 3 \n\n551| 3 1 1 2 \n\n552| 3 2 2 4 \n\n553| 2 2 1 3 \n\n554| 4 3 1 4 \n\n555| 1 1 2 3 \n\n556| 2 3 3 2 \n\n557| 1 1 3 2 \n\n558| 3 1 1 3 \n\n559| 2 2 2 2 \n\n560| 4 1 1 3 \n\n561| 2 1 2 2 \n\n562| 2 1 1 2 \n\n563| 1 3 2 1 \n\n564| 3 2 1 3 \n\n565| 3 1 2 2 \n\n566| 4 1 1 4 \n\n567| 3 1 1 4 \n\n568| 2 2 1 3 \n\n569| 1 3 2 2 \n\n570| 4 3 1 2 \n\n571| 3 1 1 4 \n\n572| 3 3 3 1 \n\n573| 4 3 1 4 \n\n574| 2 2 3 1 \n\n575| 1 1 3 4 \n\n576| 1 1 3 2 \n\n577| 3 2 2 2 \n\n578| 2 3 3 4 \n\n579| 4 2 3 2 \n\n580| 1 3 2 4 \n\n581| 1 2 1 4 \n\n582| 2 1 2 2 \n\n583| 2 1 3 1 \n\n584| 4 2 3 2 \n\n585| 3 2 3 3 \n\n586| 4 3 3 1 \n\n587| 1 2 1 3 \n\n588| 1 2 1 4 \n\n589| 4 1 3 2 \n\n590| 1 2 1 4 \n\n591| 2 3 2 2 \n\n592| 2 3 2 4 \n\n593| 4 1 1 1 \n\n594| 4 2 1 4 \n\n595| 4 2 1 4 \n\n596| 3 3 3 2 \n\n597| 2 3 2 1 \n\n598| 1 3 2 4 \n\n599| 1 1 2 1 \n\n600| 2 1 1 1 \n\n601| 1 2 3 1 \n\n602| 3 2 3 4 \n\n603| 4 3 2 4 \n\n604| 1 3 1 3 \n\n605| 4 1 3 3 \n\n606| 1 2 2 2 \n\n607| 4 2 2 4 \n\n608| 3 3 2 2 \n\n609| 4 1 3 3 \n\n610| 4 3 3 3 \n\n611| 3 2 1 3 \n\n612| 3 3 1 1 \n\n613| 2 2 2 4 \n\n614| 3 2 1 2 \n\n615| 4 2 3 4 \n\n616| 1 1 3 4 \n\n617| 1 3 3 2 \n\n618| 1 1 3 3 \n\n619| 2 3 1 1 \n\n620| 1 3 2 2 \n\n621| 2 2 3 2 \n\n622| 4 1 2 4 \n\n623| 4 1 1 2 \n\n624| 3 1 2 4 \n\n625| 1 2 1 3 \n\n626| 3 2 2 1 \n\n627| 3 2 1 4 \n\n628| 1 1 3 4 \n\n629| 1 2 2 2 \n\n630| 2 1 2 4 \n\n631| 2 1 3 2 \n\n632| 4 1 1 3 \n\n633| 1 3 3 2 \n\n634| 4 3 2 4 \n\n635| 4 1 3 1 \n\n636| 2 2 3 4 \n\n637| 4 3 1 2 \n\n638| 2 3 1 3 \n\n639| 1 1 3 3 \n\n640| 3 1 3 1 \n\n641| 2 2 3 3 \n\n642| 4 1 3 3 \n\n643| 4 3 1 4 \n\n644| 4 3 3 3 \n\n645| 4 2 2 3 \n\n646| 4 3 1 2 \n\n647| 2 1 2 4 \n\n648| 2 1 1 2 \n\n649| 1 3 2 1 \n\n650| 2 3 3 1 \n\n651| 4 1 3 1 \n\n652| 4 3 3 2 \n\n653| 1 2 3 3 \n\n654| 1 1 3 1 \n\n655| 4 3 1 4 \n\n656| 3 2 2 2 \n\n657| 3 3 2 3 \n\n658| 4 1 2 4 \n\n659| 4 3 2 4 \n\n660| 3 2 1 4 \n\n661| 2 1 2 3 \n\n662| 1 3 3 2 \n\n663| 2 2 2 4 \n\n664| 3 2 2 1 \n\n665| 4 2 3 2 \n\n666| 3 2 2 4 \n\n667| 4 1 3 4 \n\n668| 4 1 3 2 \n\n669| 4 3 3 2 \n\n670| 2 3 3 2 \n\n671| 1 2 3 4 \n\n672| 1 3 2 3 \n\n673| 2 2 2 1 \n\n674| 1 1 3 3 \n\n675| 3 2 1 1 \n\n676| 2 1 1 4 \n\n677| 3 3 2 4 \n\n678| 4 2 3 2 \n\n679| 4 3 1 1 \n\n680| 4 2 3 3 \n\n681| 1 2 2 4 \n\n682| 1 2 2 4 \n\n683| 3 1 3 3 \n\n684| 4 3 3 1 \n\n685| 2 2 2 4 \n\n686| 3 3 1 1 \n\n687| 1 2 2 4 \n\n688| 2 3 1 2 \n\n689| 1 1 2 1 \n\n690| 2 1 3 2 \n\n691| 3 1 3 2 \n\n692| 1 1 3 4 \n\n693| 4 3 2 1 \n\n694| 2 1 3 4 \n\n695| 2 2 1 4 \n\n696| 4 3 1 4 \n\n697| 3 3 3 3 \n\n698| 3 3 1 3 \n\n699| 3 1 2 3 \n\n700| 2 1 2 3 \n\n701| 3 1 1 4 \n\n702| 1 1 3 3 \n\n703| 1 1 3 2 \n\n704| 1 1 3 2 \n\n705| 1 2 1 3 \n\n706| 2 3 1 2 \n\n707| 2 2 3 4 \n\n708| 1 2 1 3 \n\n709| 3 3 1 1 \n\n710| 1 3 2 1 \n\n711| 1 1 1 4 \n\n712| 1 2 2 1 \n\n713| 3 2 1 3 \n\n714| 3 2 2 3 \n\n715| 1 3 2 1 \n\n716| 1 2 1 2 \n\n717| 1 1 2 4 \n\n718| 2 2 1 1 \n\n719| 2 3 3 4 \n\n720| 1 2 2 1 \n\n721| 1 3 2 3 \n\n722| 1 2 2 4 \n\n723| 4 3 1 1 \n\n724| 3 1 2 4 \n\n725| 3 3 1 3 \n\n726| 4 1 3 3 \n\n727| 3 2 3 3 \n\n728| 1 1 3 4 \n\n729| 2 3 3 2 \n\n730| 2 3 1 2 \n\n731| 4 2 2 1 \n\n732| 3 3 2 4 \n\n733| 3 3 3 1 \n\n734| 4 2 2 3 \n\n735| 4 3 3 3 \n\n736| 1 2 2 2 \n\n737| 4 2 1 1 \n\n738| 4 1 3 3 \n\n739| 4 2 1 3 \n\n740| 3 1 3 4 \n\n741| 3 2 3 3 \n\n742| 4 2 1 3 \n\n743| 4 3 1 4 \n\n744| 4 2 1 4 \n\n745| 3 3 1 3 \n\n746| 4 3 3 2 \n\n747| 1 1 3 3 \n\n748| 4 1 3 2 \n\n749| 3 3 1 1 \n\n750| 2 1 1 4 \n\n751| 1 1 2 4 \n\n752| 3 2 1 3 \n\n753| 2 2 1 4 \n\n754| 2 3 1 1 \n\n755| 4 3 1 2 \n\n756| 1 3 3 4 \n\n757| 2 3 1 2 \n\n758| 3 3 2 4 \n\n759| 3 2 3 4 \n\n760| 2 3 1 1 \n\n761| 2 2 3 1 \n\n762| 1 2 2 2 \n\n763| 1 2 1 2 \n\n764| 2 1 1 1 \n\n765| 1 3 3 1 \n\n766| 4 1 3 4 \n\n767| 3 2 3 4 \n\n768| 1 1 3 4 \n\n769| 1 3 3 4 \n\n770| 1 1 2 4 \n\n771| 4 2 2 1 \n\n772| 4 3 1 3 \n\n773| 3 3 1 2 \n\n774| 1 3 3 3 \n\n775| 1 2 1 2 \n\n776| 3 1 1 3 \n\n777| 3 3 2 3 \n\n778| 2 2 3 4 \n\n779| 4 1 2 2 \n\n780| 4 3 3 2 \n\n781| 3 1 2 1 \n\n782| 4 2 1 4 \n\n783| 2 2 2 4 \n\n784| 2 2 3 4 \n\n785| 4 1 2 2 \n\n786| 3 2 1 1 \n\n787| 3 1 2 4 \n\n788| 4 3 3 2 \n\n789| 4 1 1 2 \n\n790| 4 2 3 2 \n\n791| 4 3 1 3 \n\n792| 4 2 2 2 \n\n793| 4 1 2 1 \n\n794| 4 3 1 3 \n\n795| 1 1 2 2 \n\n796| 4 3 2 2 \n\n797| 1 3 3 2 \n\n798| 3 3 3 2 \n\n799| 3 3 2 2 \n\n800| 1 1 3 4 \n\n801| 3 1 3 1 \n\n802| 4 2 1 1 \n\n803| 2 2 3 4 \n\n804| 1 3 2 3 \n\n805| 1 3 1 3 \n\n806| 3 3 2 4 \n\n807| 2 1 1 4 \n\n808| 1 3 3 4 \n\n809| 4 1 1 3 \n\n810| 2 2 1 1 \n\n811| 3 1 1 1 \n\n812| 1 2 3 2 \n\n813| 2 3 3 1 \n\n814| 2 3 2 4 \n\n815| 3 1 2 4 \n\n816| 2 2 1 2 \n\n817| 3 2 3 1 \n\n818| 1 1 1 4 \n\n819| 4 1 1 4 \n\n820| 2 3 3 1 \n\n821| 1 2 2 4 \n\n822| 4 1 2 1 \n\n823| 3 3 2 4 \n\n824| 3 2 1 4 \n\n825| 2 3 3 3 \n\n826| 4 2 2 2 \n\n827| 1 1 1 2 \n\n828| 4 2 1 2 \n\n829| 1 3 2 2 \n\n830| 3 3 3 2 \n\n831| 1 1 3 4 \n\n832| 4 1 2 2 \n\n833| 1 1 3 2 \n\n834| 3 1 2 1 \n\n835| 1 3 3 1 \n\n836| 3 3 1 3 \n\n837| 2 1 3 1 \n\n838| 2 2 1 3 \n\n839| 2 2 1 2 \n\n840| 2 3 1 1 \n\n841| 2 1 3 2 \n\n842| 4 2 1 3 \n\n843| 4 2 3 1 \n\n844| 1 2 3 1 \n\n845| 4 3 2 4 \n\n846| 4 2 3 4 \n\n847| 2 1 3 2 \n\n848| 1 1 1 1 \n\n849| 4 1 2 1 \n\n850| 4 2 2 1 \n\n851| 4 1 3 4 \n\n852| 2 3 2 1 \n\n853| 4 3 2 3 \n\n854| 2 3 1 4 \n\n855| 1 2 3 2 \n\n856| 3 3 3 1 \n\n857| 2 3 3 1 \n\n858| 4 3 1 2 \n\n859| 4 1 3 3 \n\n860| 2 2 3 4 \n\n861| 1 1 3 1 \n\n862| 2 2 3 1 \n\n863| 1 2 2 4 \n\n864| 4 2 2 2 \n\n865| 3 3 3 2 \n\n866| 1 1 3 1 \n\n867| 1 1 3 4 \n\n868| 3 2 2 3 \n\n869| 4 1 2 3 \n\n870| 2 1 2 4 \n\n871| 3 3 3 3 \n\n872| 3 3 1 3 \n\n873| 2 3 3 2 \n\n874| 4 3 3 1 \n\n875| 3 3 1 2 \n\n876| 4 2 3 4 \n\n877| 3 3 2 2 \n\n878| 4 2 1 3 \n\n879| 1 3 2 4 \n\n880| 1 3 1 1 \n\n881| 3 3 3 3 \n\n882| 4 3 3 2 \n\n883| 4 1 2 3 \n\n884| 3 1 3 3 \n\n885| 2 3 3 4 \n\n886| 1 1 3 1 \n\n887| 3 2 1 1 \n\n888| 1 1 3 1 \n\n889| 1 2 2 1 \n\n890| 4 2 1 1 \n\n891| 4 3 3 3 \n\n892| 2 2 1 1 \n\n893| 2 3 1 2 \n\n894| 1 2 1 4 \n\n895| 4 2 3 2 \n\n896| 4 2 3 4 \n\n897| 4 2 1 4 \n\n898| 3 1 3 4 \n\n899| 1 2 2 3 \n\n900| 1 1 3 2 \n\n901| 2 2 3 3 \n\n902| 3 3 1 1 \n\n903| 4 1 3 2 \n\n904| 1 1 3 2 \n\n905| 2 3 1 2 \n\n906| 3 3 1 1 \n\n907| 3 3 3 3 \n\n908| 2 1 2 1 \n\n909| 3 2 3 3 \n\n910| 3 3 1 4 \n\n911| 2 3 1 4 \n\n912| 3 3 3 2 \n\n913| 3 1 1 1 \n\n914| 4 1 2 2 \n\n915| 1 1 3 1 \n\n916| 1 2 2 3 \n\n917| 4 3 3 4 \n\n918| 1 3 1 1 \n\n919| 2 2 3 4 \n\n920| 2 3 3 1 \n\n921| 3 2 2 4 \n\n922| 2 2 1 2 \n\n923| 4 3 3 3 \n\n924| 4 3 3 3 \n\n925| 4 1 3 2 \n\n926| 1 3 1 2 \n\n927| 2 1 2 3 \n\n928| 2 1 2 1 \n\n929| 1 3 2 2 \n\n930| 3 2 2 2 \n\n931| 2 3 2 1 \n\n932| 3 2 2 2 \n\n933| 4 1 2 1 \n\n934| 2 2 3 1 \n\n935| 1 3 2 3 \n\n936| 2 1 3 3 \n\n937| 1 2 2 3 \n\n938| 2 3 1 3 \n\n939| 4 2 2 4 \n\n940| 2 1 3 2 \n\n941| 4 1 2 4 \n\n942| 1 3 3 4 \n\n943| 1 2 1 2 \n\n944| 2 3 3 2 \n\n945| 3 3 1 1 \n\n946| 2 2 1 4 \n\n947| 3 3 2 3 \n\n948| 4 2 2 1 \n\n949| 1 3 1 2 \n\n950| 3 1 3 2 \n\n951| 3 2 3 2 \n\n952| 4 2 1 2 \n\n953| 1 3 2 4 \n\n954| 4 3 3 4 \n\n955| 3 3 1 4 \n\n956| 2 3 3 3 \n\n957| 1 1 3 3 \n\n958| 4 1 1 4 \n\n959| 2 3 3 3 \n\n960| 4 2 2 3 \n\n961| 1 2 1 1 \n\n962| 2 2 2 1 \n\n963| 3 1 2 3 \n\n964| 4 1 1 1 \n\n965| 1 1 3 2 \n\n966| 1 1 2 1 \n\n967| 4 1 1 4 \n\n968| 1 2 2 3 \n\n969| 1 1 3 1 \n\n970| 3 2 3 1 \n\n971| 4 2 3 4 \n\n972| 2 2 3 1 \n\n973| 4 1 3 2 \n\n974| 2 3 3 1 \n\n975| 1 2 3 4 \n\n976| 3 1 1 1 \n\n977| 3 1 3 2 \n\n978| 2 1 1 3 \n\n979| 4 2 3 4 \n\n980| 2 2 3 3 \n\n981| 1 3 1 1 \n\n982| 4 3 1 3 \n\n983| 3 3 3 1 \n\n984| 1 1 2 3 \n\n985| 2 1 3 2 \n\n986| 1 2 2 2 \n\n987| 4 1 1 4 \n\n988| 4 3 1 1 \n\n989| 2 3 1 2 \n\n990| 4 3 2 1 \n\n991| 3 3 3 4 \n\n992| 1 3 1 2 \n\n993| 3 3 3 3 \n\n994| 1 3 3 1 \n\n995| 2 3 2 4 \n\n996| 1 3 2 3 \n\n997| 2 1 1 2 \n\n998| 4 2 2 4 \n\n999| 1 1 3 3 \n\n"
    }
   ],
   "source": [
    "# Lectura del archivo data.txt\n",
    "data = open('data.txt','r')\n",
    "for i in data:\n",
    "    print(i)\n",
    "data.close()"
   ]
  },
  {
   "cell_type": "code",
   "execution_count": 7,
   "metadata": {},
   "outputs": [],
   "source": [
    "data.close()"
   ]
  },
  {
   "source": [
    "*Respuestas si*\n",
    "\n",
    "**Pre-Pound(Arbol):**\n",
    "\n",
    "carro | luz | velocidad | tiempo |\tr\n",
    ":-------:| ---------\n",
    "1 | 1 | 1 | 4 | 1\n",
    "|  | 3 |\t  |   |\t1\n",
    "2 | 1 |   |   |\n",
    "|| 3 | 2 | 1 | 1\n",
    "3 |\t\t\t\t\n",
    "4 | 1\t\t\t\n",
    "|| 2\t\t\t\n",
    "|| 3 | 1 | 3 | 1\n"
   ],
   "cell_type": "markdown",
   "metadata": {}
  },
  {
   "source": [
    "**Asociacion de clase al vector de caracteristicas**"
   ],
   "cell_type": "markdown",
   "metadata": {}
  },
  {
   "cell_type": "code",
   "execution_count": 14,
   "metadata": {},
   "outputs": [],
   "source": [
    "def modelo_clasificacion(linea):\n",
    "    if(linea[2] == '1'):\n",
    "            if(linea[3]=='1' or linea[3]=='3'):\n",
    "                if(linea[4] =='1' and linea[5]=='4'):\n",
    "                    #print('|',linea[2],linea[3],linea[4],linea[5])\n",
    "                    return True\n",
    "    elif(linea[2] == '2' and linea[3]=='3' and linea[4]=='2' and linea[5]=='1'):\n",
    "        #print('|',linea[2],linea[3],linea[4],linea[5])\n",
    "        return True\n",
    "    elif(linea[2] == '4' and linea[3]=='3' and linea[4]=='1' and linea[5]=='3'):\n",
    "        #print('|',linea[2],linea[3],linea[4],linea[5])\n",
    "        return True\n",
    "    else:\n",
    "        return False"
   ]
  },
  {
   "cell_type": "code",
   "execution_count": 17,
   "metadata": {},
   "outputs": [],
   "source": [
    " \n",
    "def arbol(ln):\n",
    "    '''\n",
    "        Metodo que devuelve un True si\n",
    "        Es la rama que acepta\n",
    "\n",
    "    '''\n",
    "    if not ln == None:\n",
    "        \n",
    "        linea=ln.split(' ') \n",
    "        if modelo_clasificacion(linea):\n",
    "            return '1'\n",
    "        else:\n",
    "            return '0'   \n",
    "    else:\n",
    "        print(\"TypeError in\" + ln)\n",
    "        return '0'"
   ]
  },
  {
   "cell_type": "code",
   "execution_count": 20,
   "metadata": {
    "tags": []
   },
   "outputs": [],
   "source": [
    "data = open('data.txt','r')\n",
    "r = open('r.txt','w')\n",
    "line=\"\"\n",
    "\n",
    "for i in data:\n",
    "    try: \n",
    "        line=arbol(i)+\"\\n\"\n",
    "        r.write(line)\n",
    "    except TypeError:\n",
    "        print(\"\")\n",
    "    except NotImplementedError:\n",
    "        print(\"Evaluador de errores\")\n",
    "\n",
    "r.close()"
   ]
  },
  {
   "source": [
    "*Respuestas en **r.txt** *"
   ],
   "cell_type": "markdown",
   "metadata": {}
  },
  {
   "source": [
    "*Visualizacion*"
   ],
   "cell_type": "markdown",
   "metadata": {}
  },
  {
   "cell_type": "code",
   "execution_count": 19,
   "metadata": {
    "tags": []
   },
   "outputs": [
    {
     "output_type": "stream",
     "name": "stdout",
     "text": "0\n\n0\n\n0\n\n0\n\n0\n\n0\n\n0\n\n0\n\n0\n\n0\n\n0\n\n0\n\n0\n\n0\n\n0\n\n0\n\n0\n\n0\n\n0\n\n0\n\n0\n\n0\n\n0\n\n0\n\n0\n\n0\n\n0\n\n0\n\n0\n\n0\n\n0\n\n0\n\n0\n\n0\n\n0\n\n0\n\n0\n\n0\n\n0\n\n0\n\n0\n\n0\n\n0\n\n0\n\n0\n\n0\n\n0\n\n0\n\n0\n\n0\n\n0\n\n0\n\n0\n\n0\n\n0\n\n0\n\n0\n\n0\n\n0\n\n0\n\n0\n\n0\n\n0\n\n0\n\n0\n\n0\n\n0\n\n0\n\n0\n\n0\n\n0\n\n0\n\n0\n\n0\n\n0\n\n0\n\n0\n\n0\n\n0\n\n0\n\n0\n\n0\n\n0\n\n0\n\n0\n\n0\n\n0\n\n0\n\n0\n\n0\n\n0\n\n0\n\n0\n\n0\n\n0\n\n0\n\n0\n\n0\n\n0\n\n0\n\n0\n\n0\n\n0\n\n0\n\n0\n\n0\n\n0\n\n0\n\n0\n\n0\n\n0\n\n0\n\n0\n\n0\n\n0\n\n0\n\n0\n\n0\n\n0\n\n0\n\n0\n\n0\n\n0\n\n0\n\n0\n\n0\n\n0\n\n0\n\n0\n\n0\n\n0\n\n0\n\n0\n\n0\n\n0\n\n0\n\n0\n\n0\n\n0\n\n0\n\n0\n\n0\n\n0\n\n0\n\n0\n\n0\n\n0\n\n0\n\n0\n\n0\n\n0\n\n0\n\n0\n\n0\n\n0\n\n0\n\n0\n\n0\n\n0\n\n0\n\n0\n\n0\n\n0\n\n0\n\n0\n\n0\n\n0\n\n0\n\n0\n\n0\n\n0\n\n0\n\n0\n\n0\n\n0\n\n0\n\n0\n\n0\n\n0\n\n0\n\n0\n\n0\n\n0\n\n0\n\n0\n\n0\n\n0\n\n0\n\n0\n\n0\n\n0\n\n0\n\n0\n\n0\n\n0\n\n0\n\n0\n\n0\n\n0\n\n0\n\n0\n\n0\n\n0\n\n0\n\n0\n\n0\n\n0\n\n0\n\n0\n\n0\n\n0\n\n0\n\n0\n\n0\n\n0\n\n0\n\n0\n\n0\n\n0\n\n0\n\n0\n\n0\n\n0\n\n0\n\n0\n\n0\n\n0\n\n0\n\n0\n\n0\n\n0\n\n0\n\n0\n\n0\n\n0\n\n0\n\n0\n\n0\n\n0\n\n0\n\n0\n\n0\n\n0\n\n0\n\n0\n\n0\n\n0\n\n0\n\n0\n\n0\n\n0\n\n0\n\n0\n\n0\n\n0\n\n0\n\n0\n\n0\n\n0\n\n0\n\n0\n\n0\n\n0\n\n0\n\n0\n\n0\n\n0\n\n0\n\n0\n\n0\n\n0\n\n0\n\n0\n\n0\n\n0\n\n0\n\n0\n\n0\n\n0\n\n0\n\n0\n\n0\n\n0\n\n0\n\n0\n\n0\n\n0\n\n0\n\n0\n\n0\n\n0\n\n0\n\n0\n\n0\n\n0\n\n0\n\n0\n\n0\n\n0\n\n0\n\n0\n\n0\n\n0\n\n0\n\n0\n\n0\n\n0\n\n0\n\n0\n\n0\n\n0\n\n0\n\n0\n\n0\n\n0\n\n0\n\n0\n\n0\n\n0\n\n0\n\n0\n\n0\n\n0\n\n0\n\n0\n\n0\n\n0\n\n0\n\n0\n\n0\n\n0\n\n0\n\n0\n\n0\n\n0\n\n0\n\n0\n\n0\n\n0\n\n0\n\n0\n\n0\n\n0\n\n0\n\n0\n\n0\n\n0\n\n0\n\n0\n\n0\n\n0\n\n0\n\n0\n\n0\n\n0\n\n0\n\n0\n\n0\n\n0\n\n0\n\n0\n\n0\n\n0\n\n0\n\n0\n\n0\n\n0\n\n0\n\n0\n\n0\n\n0\n\n0\n\n0\n\n0\n\n0\n\n0\n\n0\n\n0\n\n0\n\n0\n\n0\n\n0\n\n0\n\n0\n\n0\n\n0\n\n0\n\n0\n\n0\n\n0\n\n0\n\n0\n\n0\n\n0\n\n0\n\n0\n\n0\n\n0\n\n0\n\n0\n\n0\n\n0\n\n0\n\n0\n\n0\n\n0\n\n0\n\n0\n\n0\n\n0\n\n0\n\n0\n\n0\n\n0\n\n0\n\n0\n\n0\n\n0\n\n0\n\n0\n\n0\n\n0\n\n0\n\n0\n\n0\n\n0\n\n0\n\n0\n\n0\n\n0\n\n0\n\n0\n\n0\n\n0\n\n0\n\n0\n\n0\n\n0\n\n0\n\n0\n\n0\n\n0\n\n0\n\n0\n\n0\n\n0\n\n0\n\n0\n\n0\n\n0\n\n0\n\n0\n\n0\n\n0\n\n0\n\n0\n\n0\n\n0\n\n0\n\n0\n\n0\n\n0\n\n0\n\n0\n\n0\n\n0\n\n0\n\n0\n\n0\n\n0\n\n0\n\n0\n\n0\n\n0\n\n0\n\n0\n\n0\n\n0\n\n0\n\n0\n\n0\n\n0\n\n0\n\n0\n\n0\n\n0\n\n0\n\n0\n\n0\n\n0\n\n0\n\n0\n\n0\n\n0\n\n0\n\n0\n\n0\n\n0\n\n0\n\n0\n\n0\n\n0\n\n0\n\n0\n\n0\n\n0\n\n0\n\n0\n\n0\n\n0\n\n0\n\n0\n\n0\n\n0\n\n0\n\n0\n\n0\n\n0\n\n0\n\n0\n\n0\n\n0\n\n0\n\n0\n\n0\n\n0\n\n0\n\n0\n\n0\n\n0\n\n0\n\n0\n\n0\n\n0\n\n0\n\n0\n\n0\n\n0\n\n0\n\n0\n\n0\n\n0\n\n0\n\n0\n\n0\n\n0\n\n0\n\n0\n\n0\n\n0\n\n0\n\n0\n\n0\n\n0\n\n0\n\n0\n\n0\n\n0\n\n0\n\n0\n\n0\n\n0\n\n0\n\n0\n\n0\n\n0\n\n0\n\n0\n\n0\n\n0\n\n0\n\n0\n\n0\n\n0\n\n0\n\n0\n\n0\n\n0\n\n0\n\n0\n\n0\n\n0\n\n0\n\n0\n\n0\n\n0\n\n0\n\n0\n\n0\n\n0\n\n0\n\n0\n\n0\n\n0\n\n0\n\n0\n\n0\n\n0\n\n0\n\n0\n\n0\n\n0\n\n0\n\n0\n\n0\n\n0\n\n0\n\n0\n\n0\n\n0\n\n0\n\n0\n\n0\n\n0\n\n0\n\n0\n\n0\n\n0\n\n0\n\n0\n\n0\n\n0\n\n0\n\n0\n\n0\n\n0\n\n0\n\n0\n\n0\n\n0\n\n0\n\n0\n\n0\n\n0\n\n0\n\n0\n\n0\n\n0\n\n0\n\n0\n\n0\n\n0\n\n0\n\n0\n\n0\n\n0\n\n0\n\n0\n\n0\n\n0\n\n0\n\n0\n\n0\n\n0\n\n0\n\n0\n\n0\n\n0\n\n0\n\n0\n\n0\n\n0\n\n0\n\n0\n\n0\n\n0\n\n0\n\n0\n\n0\n\n0\n\n0\n\n0\n\n0\n\n0\n\n0\n\n0\n\n0\n\n0\n\n0\n\n0\n\n0\n\n0\n\n0\n\n0\n\n0\n\n0\n\n0\n\n0\n\n0\n\n0\n\n0\n\n0\n\n0\n\n0\n\n0\n\n0\n\n0\n\n0\n\n0\n\n0\n\n0\n\n0\n\n0\n\n0\n\n0\n\n0\n\n0\n\n0\n\n0\n\n0\n\n0\n\n0\n\n0\n\n0\n\n0\n\n0\n\n0\n\n0\n\n0\n\n0\n\n0\n\n0\n\n0\n\n0\n\n0\n\n0\n\n0\n\n0\n\n0\n\n0\n\n0\n\n0\n\n0\n\n0\n\n0\n\n0\n\n0\n\n0\n\n0\n\n0\n\n0\n\n0\n\n0\n\n0\n\n0\n\n0\n\n0\n\n0\n\n0\n\n0\n\n0\n\n0\n\n0\n\n0\n\n0\n\n0\n\n0\n\n0\n\n0\n\n0\n\n0\n\n0\n\n0\n\n0\n\n0\n\n0\n\n0\n\n0\n\n0\n\n0\n\n0\n\n0\n\n0\n\n0\n\n0\n\n0\n\n0\n\n0\n\n0\n\n0\n\n0\n\n0\n\n0\n\n0\n\n0\n\n0\n\n0\n\n0\n\n0\n\n0\n\n0\n\n0\n\n0\n\n0\n\n0\n\n0\n\n0\n\n0\n\n0\n\n0\n\n0\n\n0\n\n0\n\n0\n\n0\n\n0\n\n0\n\n0\n\n0\n\n0\n\n0\n\n0\n\n0\n\n0\n\n0\n\n0\n\n0\n\n0\n\n0\n\n0\n\n0\n\n0\n\n0\n\n0\n\n0\n\n0\n\n0\n\n0\n\n0\n\n0\n\n0\n\n0\n\n0\n\n0\n\n0\n\n0\n\n0\n\n0\n\n0\n\n0\n\n0\n\n0\n\n0\n\n0\n\n0\n\n0\n\n0\n\n0\n\n0\n\n0\n\n0\n\n0\n\n0\n\n0\n\n0\n\n0\n\n0\n\n0\n\n0\n\n0\n\n0\n\n0\n\n0\n\n0\n\n0\n\n0\n\n0\n\n0\n\n0\n\n0\n\n0\n\n0\n\n0\n\n0\n\n0\n\n0\n\n0\n\n0\n\n0\n\n0\n\n0\n\n0\n\n0\n\n0\n\n0\n\n0\n\n0\n\n0\n\n0\n\n0\n\n0\n\n0\n\n0\n\n0\n\n0\n\n0\n\n0\n\n0\n\n0\n\n0\n\n0\n\n0\n\n0\n\n0\n\n0\n\n0\n\n0\n\n0\n\n0\n\n0\n\n0\n\n0\n\n0\n\n0\n\n0\n\n0\n\n0\n\n0\n\n0\n\n0\n\n0\n\n0\n\n0\n\n0\n\n0\n\n0\n\n0\n\n0\n\n0\n\n0\n\n0\n\n0\n\n0\n\n0\n\n0\n\n0\n\n0\n\n0\n\n0\n\n0\n\n0\n\n0\n\n0\n\n0\n\n0\n\n0\n\n0\n\n0\n\n0\n\n0\n\n0\n\n0\n\n0\n\n0\n\n0\n\n0\n\n0\n\n0\n\n0\n\n0\n\n0\n\n0\n\n0\n\n0\n\n0\n\n0\n\n0\n\n0\n\n0\n\n0\n\n0\n\n0\n\n0\n\n0\n\n0\n\n0\n\n0\n\n0\n\n0\n\n0\n\n0\n\n0\n\n0\n\n0\n\n0\n\n0\n\n0\n\n0\n\n0\n\n0\n\n0\n\n0\n\n0\n\n0\n\n0\n\n0\n\n0\n\n0\n\n0\n\n"
    }
   ],
   "source": [
    "# Lectura del archivo r.txt\n",
    "r = open('r.txt','r')\n",
    "for i in r:\n",
    "    print(i)\n",
    "r.close()"
   ]
  },
  {
   "source": [
    "*Vector problema* > 80%\n",
    "\n",
    "Medidas de similitud\n",
    "\n",
    "Manhatan - sumatoria - comparar con vector \n",
    "\n",
    "\n",
    "Euler \n",
    "\n"
   ],
   "cell_type": "markdown",
   "metadata": {}
  }
 ]
}